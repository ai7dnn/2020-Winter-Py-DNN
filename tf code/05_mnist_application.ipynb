{
  "nbformat": 4,
  "nbformat_minor": 0,
  "metadata": {
    "colab": {
      "name": "05-mnist-application.ipynb",
      "provenance": [],
      "collapsed_sections": [],
      "include_colab_link": true
    },
    "kernelspec": {
      "name": "python3",
      "display_name": "Python 3"
    }
  },
  "cells": [
    {
      "cell_type": "markdown",
      "metadata": {
        "id": "view-in-github",
        "colab_type": "text"
      },
      "source": [
        "<a href=\"https://colab.research.google.com/github/ai7dnn/2020-Winter-Py-DNN/blob/main/tf%20code/05_mnist_application.ipynb\" target=\"_parent\"><img src=\"https://colab.research.google.com/assets/colab-badge.svg\" alt=\"Open In Colab\"/></a>"
      ]
    },
    {
      "cell_type": "code",
      "metadata": {
        "id": "JGJHYKgUVuzu",
        "colab": {
          "base_uri": "https://localhost:8080/",
          "height": 35
        },
        "outputId": "a366787b-d226-4117-e01c-770e1dbd7f33"
      },
      "source": [
        "import tensorflow as tf\n",
        "tf.__version__"
      ],
      "execution_count": 29,
      "outputs": [
        {
          "output_type": "execute_result",
          "data": {
            "application/vnd.google.colaboratory.intrinsic+json": {
              "type": "string"
            },
            "text/plain": [
              "'2.4.0'"
            ]
          },
          "metadata": {
            "tags": []
          },
          "execution_count": 29
        }
      ]
    },
    {
      "cell_type": "markdown",
      "metadata": {
        "id": "T_nmiWKaj0pu"
      },
      "source": [
        "## MNIST 딥러닝 전 소스"
      ]
    },
    {
      "cell_type": "code",
      "metadata": {
        "id": "0OrLMP3OdcI3",
        "colab": {
          "base_uri": "https://localhost:8080/"
        },
        "outputId": "e838d18e-a0d9-4bc9-f837-9249b77030ae"
      },
      "source": [
        "#########################################################\n",
        "import tensorflow as tf\n",
        "\n",
        "mnist = tf.keras.datasets.mnist\n",
        "(x_train, y_train), (x_test, y_test) = mnist.load_data()\n",
        "\n",
        "# 샘플 값을 정수(0~255)에서 부동소수(0~1)로 변환\n",
        "x_train, x_test = x_train / 255.0, x_test / 255.0\n",
        "\n",
        "# 층을 차례대로 쌓아 tf.keras.models.Sequential 모델을 생성\n",
        "model = tf.keras.models.Sequential([\n",
        "    tf.keras.layers.Flatten(input_shape=(28, 28)),\n",
        "    tf.keras.layers.Dense(128, activation='relu'),\n",
        "    tf.keras.layers.Dropout(0.2),\n",
        "    tf.keras.layers.Dense(10, activation='softmax')\n",
        "])\n",
        "\n",
        "# 모델 요약 표시\n",
        "model.summary()\n",
        "\n",
        "# 훈련에 사용할 옵티마이저(optimizer)와 손실 함수, 출력정보를 모델에 설정\n",
        "model.compile(optimizer='adam',\n",
        "              loss='sparse_categorical_crossentropy',\n",
        "              metrics=['accuracy'])\n",
        "              # metrics=['accuracy', 'mse'])\n",
        "\n",
        "# 모델을 훈련 데이터로 총 5번 훈련\n",
        "model.fit(x_train, y_train, epochs=5)\n",
        "\n",
        "# 모델을 테스트 데이터로 평가\n",
        "model.evaluate(x_test, y_test)"
      ],
      "execution_count": 30,
      "outputs": [
        {
          "output_type": "stream",
          "text": [
            "Model: \"sequential_1\"\n",
            "_________________________________________________________________\n",
            "Layer (type)                 Output Shape              Param #   \n",
            "=================================================================\n",
            "flatten_1 (Flatten)          (None, 784)               0         \n",
            "_________________________________________________________________\n",
            "dense_2 (Dense)              (None, 128)               100480    \n",
            "_________________________________________________________________\n",
            "dropout_1 (Dropout)          (None, 128)               0         \n",
            "_________________________________________________________________\n",
            "dense_3 (Dense)              (None, 10)                1290      \n",
            "=================================================================\n",
            "Total params: 101,770\n",
            "Trainable params: 101,770\n",
            "Non-trainable params: 0\n",
            "_________________________________________________________________\n",
            "Epoch 1/5\n",
            "1875/1875 [==============================] - 4s 2ms/step - loss: 0.4880 - accuracy: 0.8575\n",
            "Epoch 2/5\n",
            "1875/1875 [==============================] - 4s 2ms/step - loss: 0.1462 - accuracy: 0.9572\n",
            "Epoch 3/5\n",
            "1875/1875 [==============================] - 3s 2ms/step - loss: 0.1111 - accuracy: 0.9672\n",
            "Epoch 4/5\n",
            "1875/1875 [==============================] - 3s 2ms/step - loss: 0.0857 - accuracy: 0.9732\n",
            "Epoch 5/5\n",
            "1875/1875 [==============================] - 3s 2ms/step - loss: 0.0722 - accuracy: 0.9779\n",
            "313/313 [==============================] - 0s 1ms/step - loss: 0.0760 - accuracy: 0.9757\n"
          ],
          "name": "stdout"
        },
        {
          "output_type": "execute_result",
          "data": {
            "text/plain": [
              "[0.07599769532680511, 0.9757000207901001]"
            ]
          },
          "metadata": {
            "tags": []
          },
          "execution_count": 30
        }
      ]
    },
    {
      "cell_type": "markdown",
      "metadata": {
        "id": "LvQ6GKWzGell"
      },
      "source": [
        "# MNIST 손글씨 예측과 오류 확인"
      ]
    },
    {
      "cell_type": "code",
      "metadata": {
        "id": "SpS7lSpI3ARm",
        "colab": {
          "base_uri": "https://localhost:8080/"
        },
        "outputId": "e422a1ea-2c0d-4920-c1d6-11d30915ce67"
      },
      "source": [
        "# 테스트 데이터의 첫 번째 손글씨 예측 결과를 확인\n",
        "print(x_test[1:].shape)\n",
        "\n",
        "pred_result = model.predict(x_test[:1])\n",
        "print(pred_result.shape)\n",
        "print(pred_result)\n",
        "print(pred_result[0])"
      ],
      "execution_count": 4,
      "outputs": [
        {
          "output_type": "stream",
          "text": [
            "(9999, 28, 28)\n",
            "(1, 10)\n",
            "[[7.4455816e-06 6.9718264e-10 4.0848743e-05 1.2494005e-04 1.2206803e-12\n",
            "  8.6637749e-07 2.5328809e-14 9.9980277e-01 5.7276833e-07 2.2698161e-05]]\n",
            "[7.4455816e-06 6.9718264e-10 4.0848743e-05 1.2494005e-04 1.2206803e-12\n",
            " 8.6637749e-07 2.5328809e-14 9.9980277e-01 5.7276833e-07 2.2698161e-05]\n"
          ],
          "name": "stdout"
        }
      ]
    },
    {
      "cell_type": "code",
      "metadata": {
        "colab": {
          "base_uri": "https://localhost:8080/"
        },
        "id": "OAzlgqhcrC0a",
        "outputId": "c3353b60-df5d-451f-f85a-e99eca0ec75d"
      },
      "source": [
        "# 테스트 데이터의 1, 2 번째 손글씨 예측 결과를 확인\r\n",
        "pred_result = model.predict(x_test[:2])\r\n",
        "print(pred_result.shape)\r\n",
        "print(pred_result)\r\n",
        "print(pred_result[1])"
      ],
      "execution_count": 6,
      "outputs": [
        {
          "output_type": "stream",
          "text": [
            "(2, 10)\n",
            "[[7.4455816e-06 6.9718264e-10 4.0848783e-05 1.2494005e-04 1.2206803e-12\n",
            "  8.6637749e-07 2.5328809e-14 9.9980277e-01 5.7276890e-07 2.2698183e-05]\n",
            " [5.6470832e-09 1.1764786e-04 9.9987578e-01 2.7571380e-06 1.7333754e-13\n",
            "  4.3696183e-08 6.3766992e-09 4.2437801e-13 3.6760066e-06 1.1458753e-12]]\n",
            "[5.6470832e-09 1.1764786e-04 9.9987578e-01 2.7571380e-06 1.7333754e-13\n",
            " 4.3696183e-08 6.3766992e-09 4.2437801e-13 3.6760066e-06 1.1458753e-12]\n"
          ],
          "name": "stdout"
        }
      ]
    },
    {
      "cell_type": "code",
      "metadata": {
        "id": "tN8nz6T0AXY9",
        "colab": {
          "base_uri": "https://localhost:8080/"
        },
        "outputId": "9ca3ef68-363c-4b2b-8899-50bc534cb212"
      },
      "source": [
        "import numpy as np\n",
        "\n",
        "# 10 개의 수를 더하면?\n",
        "one_pred = pred_result[0]\n",
        "print(one_pred.sum())\n",
        "\n",
        "# 혹시 가장 큰 수가 있는 첨자가 결과\n",
        "np.argmax(one_pred)"
      ],
      "execution_count": 10,
      "outputs": [
        {
          "output_type": "stream",
          "text": [
            "1.0000001\n"
          ],
          "name": "stdout"
        },
        {
          "output_type": "execute_result",
          "data": {
            "text/plain": [
              "7"
            ]
          },
          "metadata": {
            "tags": []
          },
          "execution_count": 10
        }
      ]
    },
    {
      "cell_type": "code",
      "metadata": {
        "colab": {
          "base_uri": "https://localhost:8080/"
        },
        "id": "dxyBzEUVsGtB",
        "outputId": "d632be11-b98d-47fc-d340-543b5e661190"
      },
      "source": [
        "# tensorflow의 argmax()도 가능\r\n",
        "tf.argmax(one_pred).numpy()"
      ],
      "execution_count": 12,
      "outputs": [
        {
          "output_type": "execute_result",
          "data": {
            "text/plain": [
              "7"
            ]
          },
          "metadata": {
            "tags": []
          },
          "execution_count": 12
        }
      ]
    },
    {
      "cell_type": "code",
      "metadata": {
        "id": "fStn1t8rAs_B",
        "colab": {
          "base_uri": "https://localhost:8080/"
        },
        "outputId": "ee2a9383-0068-45f0-ee00-7ca67328632d"
      },
      "source": [
        "import numpy as np\n",
        "\n",
        "# 10 개의 수를 더하면?\n",
        "one_pred = pred_result[0]\n",
        "print(tf.reduce_sum(one_pred))\n",
        "print(tf.reduce_sum(one_pred).numpy())\n",
        "\n",
        "# 혹시 가장 큰 수가 있는 첨자가 결과\n",
        "print(tf.argmax(one_pred).numpy())"
      ],
      "execution_count": 13,
      "outputs": [
        {
          "output_type": "stream",
          "text": [
            "tf.Tensor(1.0000001, shape=(), dtype=float32)\n",
            "1.0000001\n",
            "7\n"
          ],
          "name": "stdout"
        }
      ]
    },
    {
      "cell_type": "code",
      "metadata": {
        "id": "G7ZWLbPH8I28",
        "colab": {
          "base_uri": "https://localhost:8080/"
        },
        "outputId": "c3c10756-ef04-4cd2-be22-2e8e09cdedb0"
      },
      "source": [
        "import numpy as np\n",
        "\n",
        "###############################################\n",
        "# 원핫 인코딩과 argmax 학습\n",
        "print(np.argmax([5, 4, 10, 1, 2]))\n",
        "print(np.argmax([3, 1, 4, 9, 6, 7, 2]))\n",
        "print(np.argmax([[0.1, 0.8, 0.1], [0.7, 0.2, 0.1], [0.2, 0.1, 0.7]], axis=1))"
      ],
      "execution_count": 14,
      "outputs": [
        {
          "output_type": "stream",
          "text": [
            "2\n",
            "3\n",
            "[1 0 2]\n"
          ],
          "name": "stdout"
        }
      ]
    },
    {
      "cell_type": "code",
      "metadata": {
        "colab": {
          "base_uri": "https://localhost:8080/"
        },
        "id": "J56kFtnYuNPW",
        "outputId": "f9696989-3c5c-45c9-8698-6f20a4b16a6a"
      },
      "source": [
        "print(np.argmax([[0.6, 0.3, 0.1], [0.8, 0.1, 0.1], [0.2, 0.1, 0.7]], axis=0))\r\n",
        "print(np.argmax([[0.6, 0.3, 0.1], [0.8, 0.1, 0.1], [0.2, 0.1, 0.7]], axis=1))\r\n",
        "# 일차원 배열로 간주하고 가장 큰 값의 첨자\r\n",
        "print(np.argmax([[0.6, 0.3, 0.1], [0.8, 0.1, 0.1], [0.2, 0.1, 0.7]]))"
      ],
      "execution_count": 24,
      "outputs": [
        {
          "output_type": "stream",
          "text": [
            "[1 0 2]\n",
            "[0 0 2]\n",
            "3\n"
          ],
          "name": "stdout"
        }
      ]
    },
    {
      "cell_type": "code",
      "metadata": {
        "colab": {
          "base_uri": "https://localhost:8080/"
        },
        "id": "iI0lzggPzNep",
        "outputId": "fa84e9a4-b297-42b5-df19-0d0aaf4042b4"
      },
      "source": [
        "print(tf.argmax([[0.6, 0.3, 0.1], [0.8, 0.1, 0.1], [0.2, 0.1, 0.7]], axis=0))\r\n",
        "print(tf.argmax([[0.6, 0.3, 0.1], [0.8, 0.1, 0.1], [0.2, 0.1, 0.7]], axis=1))\r\n",
        "# 일차원 배열로 간주하고 가장 큰 값의 첨자\r\n",
        "print(tf.argmax([[0.6, 0.3, 0.1], [0.8, 0.1, 0.1], [0.2, 0.1, 0.7]]))"
      ],
      "execution_count": 23,
      "outputs": [
        {
          "output_type": "stream",
          "text": [
            "tf.Tensor([1 0 2], shape=(3,), dtype=int64)\n",
            "tf.Tensor([0 0 2], shape=(3,), dtype=int64)\n",
            "tf.Tensor([1 0 2], shape=(3,), dtype=int64)\n"
          ],
          "name": "stdout"
        }
      ]
    },
    {
      "cell_type": "code",
      "metadata": {
        "colab": {
          "base_uri": "https://localhost:8080/"
        },
        "id": "LDYNaclD2K4z",
        "outputId": "5c648b26-929f-47bf-e736-1b7d9ad18934"
      },
      "source": [
        "print(np.argmax([[1, 4, 2, 3], [9, 13, 61, 1], [43, 24, 88, 22]], axis=0))\r\n",
        "print(np.argmax([[1, 4, 2, 3], [9, 13, 61, 1], [43, 24, 88, 22]], axis=1))\r\n",
        "# 일차원 배열로 간주하고 가장 큰 값의 첨자\r\n",
        "print(np.argmax([[1, 4, 2, 3], [9, 13, 61, 1], [43, 24, 88, 22]]))"
      ],
      "execution_count": 25,
      "outputs": [
        {
          "output_type": "stream",
          "text": [
            "[2 2 2 2]\n",
            "[1 2 2]\n",
            "10\n"
          ],
          "name": "stdout"
        }
      ]
    },
    {
      "cell_type": "code",
      "metadata": {
        "id": "zv1hebn1Czjq",
        "colab": {
          "base_uri": "https://localhost:8080/"
        },
        "outputId": "4bb42a16-b706-4dae-ef57-1fd9eda594eb"
      },
      "source": [
        "import numpy as np\n",
        "\n",
        "###############################################\n",
        "# 원핫 인코딩과 argmax 학습\n",
        "print(tf.argmax([5, 4, 10, 1, 2]))\n",
        "print(tf.argmax([3, 1, 4, 9, 6, 7, 2]))\n",
        "print(tf.argmax([[0.1, 0.8, 0.1], [0.7, 0.2, 0.1], [0.2, 0.1, 0.7]], axis=1))"
      ],
      "execution_count": 26,
      "outputs": [
        {
          "output_type": "stream",
          "text": [
            "tf.Tensor(2, shape=(), dtype=int64)\n",
            "tf.Tensor(3, shape=(), dtype=int64)\n",
            "tf.Tensor([1 0 2], shape=(3,), dtype=int64)\n"
          ],
          "name": "stdout"
        }
      ]
    },
    {
      "cell_type": "code",
      "metadata": {
        "id": "cth_ilrT8HW8",
        "colab": {
          "base_uri": "https://localhost:8080/",
          "height": 261
        },
        "outputId": "bca42ac4-ed8f-4534-ddfc-1a366c1cb3de"
      },
      "source": [
        "import numpy as np\n",
        "\n",
        "# 10 개의 수를 더하면?\n",
        "one_pred = pred_result[0]\n",
        "print(one_pred.sum())\n",
        "\n",
        "# 혹시 가장 큰 수가 있는 첨자가 결과\n",
        "one = np.argmax(one_pred)\n",
        "print(one)\n",
        "\n",
        "import matplotlib.pyplot as plt\n",
        "\n",
        "plt.figure(figsize=(5, 3))\n",
        "tmp = \"Predict: \" + str(one) + \"  Label: \" + str(y_test[0])\n",
        "plt.title(tmp)\n",
        "_ = plt.imshow(x_test[0], cmap='Greys')"
      ],
      "execution_count": 31,
      "outputs": [
        {
          "output_type": "stream",
          "text": [
            "1.0000001\n",
            "7\n"
          ],
          "name": "stdout"
        },
        {
          "output_type": "display_data",
          "data": {
            "image/png": "[encoded data removed]",
            "text/plain": [
              "<Figure size 360x216 with 1 Axes>"
            ]
          },
          "metadata": {
            "tags": [],
            "needs_background": "light"
          }
        }
      ]
    },
    {
      "cell_type": "code",
      "metadata": {
        "id": "wEdDSYmT8I5p",
        "colab": {
          "base_uri": "https://localhost:8080/",
          "height": 84
        },
        "outputId": "a07d525b-f37c-49c6-8768-770d623637d3"
      },
      "source": [
        "###############################################\n",
        "# 간단한 자료 처리\n",
        "import numpy as np\n",
        "\n",
        "x = np.array([2, 3, 254, 5, 6, 3])\n",
        "x = x / 255.0\n",
        "print(x)\n",
        "\n",
        "x = x.reshape(2, 3)\n",
        "print(x)\n",
        "\n",
        "x = x.flatten()\n",
        "print(x)"
      ],
      "execution_count": null,
      "outputs": [
        {
          "output_type": "stream",
          "text": [
            "[0.00784314 0.01176471 0.99607843 0.01960784 0.02352941 0.01176471]\n",
            "[[0.00784314 0.01176471 0.99607843]\n",
            " [0.01960784 0.02352941 0.01176471]]\n",
            "[0.00784314 0.01176471 0.99607843 0.01960784 0.02352941 0.01176471]\n"
          ],
          "name": "stdout"
        }
      ]
    },
    {
      "cell_type": "markdown",
      "metadata": {
        "id": "dUqY9sJCEkHg"
      },
      "source": [
        "## 테스트 데이터 모두 예측"
      ]
    },
    {
      "cell_type": "code",
      "metadata": {
        "id": "9i-ms23u3AaP",
        "colab": {
          "base_uri": "https://localhost:8080/",
          "height": 139
        },
        "outputId": "e768f081-9260-489d-8bb9-7cced26d1e20"
      },
      "source": [
        "from random import sample\n",
        "import numpy as np\n",
        "\n",
        "# x_test로 직접 결과 처리\n",
        "pred_result = model.predict(x_test)\n",
        "print(pred_result.shape)\n",
        "print(pred_result[0])\n",
        "print(np.argmax(pred_result[0]))\n",
        "\n",
        "# 원핫 인코딩을 일반 데이터로 변환\n",
        "pred_labels = np.argmax(pred_result, axis=1)\n",
        "# 예측한 답 출력\n",
        "print(pred_labels)\n",
        "# 실제 정답 출력\n",
        "print(y_test)\n",
        "###############################################"
      ],
      "execution_count": null,
      "outputs": [
        {
          "output_type": "stream",
          "text": [
            "(10000, 10)\n",
            "[3.07403207e-06 7.41975104e-09 4.37525159e-06 1.83329859e-04\n",
            " 2.41670295e-11 1.54783052e-07 1.70561113e-12 9.99795616e-01\n",
            " 2.54876113e-06 1.09451885e-05]\n",
            "7\n",
            "[7 2 1 ... 4 5 6]\n",
            "[7 2 1 ... 4 5 6]\n"
          ],
          "name": "stdout"
        }
      ]
    },
    {
      "cell_type": "markdown",
      "metadata": {
        "id": "CJisORPrSXTl"
      },
      "source": [
        "## dropout()"
      ]
    },
    {
      "cell_type": "code",
      "metadata": {
        "id": "at5E59ykSTiH",
        "colab": {
          "base_uri": "https://localhost:8080/"
        },
        "outputId": "bc897f0c-354c-4f0b-d808-54ea19194a20"
      },
      "source": [
        "data = np.arange(1, 11).reshape(5, 2).astype(np.float32)\n",
        "print(data)\n",
        "np.sum(data)"
      ],
      "execution_count": 32,
      "outputs": [
        {
          "output_type": "stream",
          "text": [
            "[[ 1.  2.]\n",
            " [ 3.  4.]\n",
            " [ 5.  6.]\n",
            " [ 7.  8.]\n",
            " [ 9. 10.]]\n"
          ],
          "name": "stdout"
        },
        {
          "output_type": "execute_result",
          "data": {
            "text/plain": [
              "55.0"
            ]
          },
          "metadata": {
            "tags": []
          },
          "execution_count": 32
        }
      ]
    },
    {
      "cell_type": "code",
      "metadata": {
        "id": "LeYGkyvWSqC4",
        "colab": {
          "base_uri": "https://localhost:8080/"
        },
        "outputId": "29f8232d-0e97-4db2-ade7-cb3807348c7a"
      },
      "source": [
        "tf.random.set_seed(0)\n",
        "#layer = tf.keras.layers.Dropout(.2, input_shape=(2,))\n",
        "layer = tf.keras.layers.Dropout(.3, input_shape=(2,))\n",
        "outputs = layer(data, training=True)\n",
        "#outputs = layer(data, training=False)\n",
        "print(outputs)\n",
        "np.sum(outputs)"
      ],
      "execution_count": 33,
      "outputs": [
        {
          "output_type": "stream",
          "text": [
            "tf.Tensor(\n",
            "[[ 0.         0.       ]\n",
            " [ 4.285714   5.714286 ]\n",
            " [ 7.1428576  8.571428 ]\n",
            " [10.        11.428572 ]\n",
            " [12.857143   0.       ]], shape=(5, 2), dtype=float32)\n"
          ],
          "name": "stdout"
        },
        {
          "output_type": "execute_result",
          "data": {
            "text/plain": [
              "60.0"
            ]
          },
          "metadata": {
            "tags": []
          },
          "execution_count": 33
        }
      ]
    },
    {
      "cell_type": "markdown",
      "metadata": {
        "id": "237NoRstFLAz"
      },
      "source": [
        "## 임의의 20개 예측 값과 정답 그리기"
      ]
    },
    {
      "cell_type": "code",
      "metadata": {
        "id": "GND-dQmq3Ac7",
        "colab": {
          "base_uri": "https://localhost:8080/",
          "height": 729
        },
        "outputId": "965be4b2-c8e9-426e-977e-86b0fc2b8e1e"
      },
      "source": [
        "###############################################\n",
        "from random import sample\n",
        "import numpy as np\n",
        "\n",
        "# 예측한 softmax의 확률이 있는 리스트 pred_result\n",
        "pred_result = model.predict(x_test)\n",
        "\n",
        "# 실제 예측한 정답이 있는 리스트 pred_labels\n",
        "pred_labels = np.argmax(pred_result, axis=1)\n",
        "\n",
        "#랜덤하게 20개의 훈련용 자료를 예측 값과 정답, 그림을 그려 보자.\n",
        "nrows, ncols = 5, 4\n",
        "samples = sorted(sample(range(len(x_test)), nrows * ncols)) # 출력할 첨자 선정\n",
        "\n",
        "# 임의의 20개 그리기\n",
        "count = 0\n",
        "plt.figure(figsize=(12,10))\n",
        "for n in samples:\n",
        "    count += 1\n",
        "    plt.subplot(nrows, ncols, count)\n",
        "    # 예측이 틀린 것은 파란색으로 그리기 \n",
        "    cmap = 'Greys' if ( pred_labels[n] == y_test[n]) else 'Blues'\n",
        "    plt.imshow(x_test[n].reshape(28, 28), cmap=cmap, interpolation='nearest')\n",
        "    tmp = \"Label:\" + str(y_test[n]) + \", Prediction:\" + str(pred_labels[n])\n",
        "    plt.title(tmp)\n",
        "\n",
        "plt.tight_layout()\n",
        "plt.show()\n",
        "###############################################"
      ],
      "execution_count": 39,
      "outputs": [
        {
          "output_type": "display_data",
          "data": {
            "image/png": "[encoded data removed]",
            "text/plain": [
              "<Figure size 864x720 with 20 Axes>"
            ]
          },
          "metadata": {
            "tags": [],
            "needs_background": "light"
          }
        }
      ]
    },
    {
      "cell_type": "markdown",
      "metadata": {
        "id": "uEgg4QelFwd9"
      },
      "source": [
        "## 예측이 틀린 임의 20개 그리기"
      ]
    },
    {
      "cell_type": "code",
      "metadata": {
        "id": "zyIlX7WMrUNa",
        "colab": {
          "base_uri": "https://localhost:8080/",
          "height": 762
        },
        "outputId": "e703c225-e18d-44cd-b447-cd92bc9245e8"
      },
      "source": [
        "from random import sample\n",
        "import numpy as np\n",
        "\n",
        "###############################################\n",
        "# 예측 틀린 것 첨자를 저장할 리스트\n",
        "mispred = []\n",
        "# 예측한 softmax의 확률이 있는 리스트 pred_result\n",
        "pred_result = model.predict(x_test)\n",
        "\n",
        "# 실제 예측한 정답이 있는 리스트 pred_labels\n",
        "pred_labels = np.argmax(pred_result, axis=1)\n",
        "\n",
        "for n in range(0, len(y_test)):\n",
        "    if pred_labels[n] != y_test[n]:\n",
        "        mispred.append(n)\n",
        "print('정답이 틀린 수', len(mispred))\n",
        "\n",
        "# 랜덤하게 틀린 것 20개의 첨자 리스트 생성\n",
        "samples = sample(mispred, 20)\n",
        "print(samples)\n",
        "\n",
        "# 틀린 것 20개 그리기\n",
        "count = 0\n",
        "nrows, ncols = 5, 4\n",
        "plt.figure(figsize=(12,10))\n",
        "for n in samples:\n",
        "    count += 1\n",
        "    plt.subplot(nrows, ncols, count)\n",
        "    plt.imshow(x_test[n].reshape(28, 28), cmap='Blues', interpolation='nearest')\n",
        "    tmp = \"Label:\" + str(y_test[n]) + \", Prediction:\" + str(pred_labels[n])\n",
        "    plt.title(tmp)\n",
        "\n",
        "plt.tight_layout()\n",
        "plt.show()\n",
        "###############################################"
      ],
      "execution_count": 40,
      "outputs": [
        {
          "output_type": "stream",
          "text": [
            "정답이 틀린 수 243\n",
            "[6532, 4007, 3869, 2272, 4355, 9024, 445, 3597, 6651, 1299, 4731, 947, 2447, 8311, 1709, 4567, 9642, 4093, 3941, 4300]\n"
          ],
          "name": "stdout"
        },
        {
          "output_type": "display_data",
          "data": {
            "image/png": "[encoded data removed]",
            "text/plain": [
              "<Figure size 864x720 with 20 Axes>"
            ]
          },
          "metadata": {
            "tags": [],
            "needs_background": "light"
          }
        }
      ]
    },
    {
      "cell_type": "code",
      "metadata": {
        "id": "cf1taP303B4x",
        "colab": {
          "base_uri": "https://localhost:8080/",
          "height": 676
        },
        "outputId": "18e6aa2c-0e2e-492b-cdaa-a9f95c39f0bb"
      },
      "source": [
        "#########################################################\n",
        "import tensorflow as tf\n",
        "\n",
        "# mnist 모듈 준비\n",
        "mnist = tf.keras.datasets.mnist\n",
        "\n",
        "# MNIST 데이터셋을 훈련과 테스트 데이터로 로드하여 준비\n",
        "(x_train, y_train), (x_test, y_test) = mnist.load_data()\n",
        "\n",
        "# 샘플 값을 정수(0~255)에서 부동소수(0~1)로 변환\n",
        "x_train, x_test = x_train / 255.0, x_test / 255.0\n",
        "\n",
        "\n",
        "# 층을 차례대로 쌓아 tf.keras.Sequential 모델을 생성\n",
        "model = tf.keras.models.Sequential([\n",
        "    tf.keras.layers.Flatten(input_shape=(28, 28)),\n",
        "    tf.keras.layers.Dense(128, activation='relu'),\n",
        "    tf.keras.layers.Dropout(.2),\n",
        "    tf.keras.layers.Dense(10, activation='softmax')                                     \n",
        "])\n",
        "\n",
        "# 훈련에 사용할 옵티마이저(optimizer)와 손실 함수, 출력정보를 선택\n",
        "model.compile(optimizer='adam', \n",
        "              loss='sparse_categorical_crossentropy',\n",
        "              metrics=['accuracy'])\n",
        "\n",
        "# 모델 요약 표시\n",
        "model.summary()\n",
        "\n",
        "# 모델을 훈련 데이터로 총 5번 훈련\n",
        "model.fit(x_train, y_train, epochs=10)\n",
        "\n",
        "# 모델을 테스트 데이터로 평가\n",
        "model.evaluate(x_test, y_test)"
      ],
      "execution_count": null,
      "outputs": [
        {
          "output_type": "stream",
          "text": [
            "Model: \"sequential_1\"\n",
            "_________________________________________________________________\n",
            "Layer (type)                 Output Shape              Param #   \n",
            "=================================================================\n",
            "flatten_1 (Flatten)          (None, 784)               0         \n",
            "_________________________________________________________________\n",
            "dense_2 (Dense)              (None, 128)               100480    \n",
            "_________________________________________________________________\n",
            "dropout_2 (Dropout)          (None, 128)               0         \n",
            "_________________________________________________________________\n",
            "dense_3 (Dense)              (None, 10)                1290      \n",
            "=================================================================\n",
            "Total params: 101,770\n",
            "Trainable params: 101,770\n",
            "Non-trainable params: 0\n",
            "_________________________________________________________________\n",
            "Epoch 1/10\n",
            "1875/1875 [==============================] - 3s 2ms/step - loss: 0.2951 - accuracy: 0.9143\n",
            "Epoch 2/10\n",
            "1875/1875 [==============================] - 3s 2ms/step - loss: 0.1420 - accuracy: 0.9579\n",
            "Epoch 3/10\n",
            "1875/1875 [==============================] - 3s 2ms/step - loss: 0.1060 - accuracy: 0.9679\n",
            "Epoch 4/10\n",
            "1875/1875 [==============================] - 3s 2ms/step - loss: 0.0870 - accuracy: 0.9735\n",
            "Epoch 5/10\n",
            "1875/1875 [==============================] - 3s 2ms/step - loss: 0.0736 - accuracy: 0.9769\n",
            "Epoch 6/10\n",
            "1875/1875 [==============================] - 3s 2ms/step - loss: 0.0662 - accuracy: 0.9791\n",
            "Epoch 7/10\n",
            "1875/1875 [==============================] - 3s 2ms/step - loss: 0.0586 - accuracy: 0.9815\n",
            "Epoch 8/10\n",
            "1875/1875 [==============================] - 3s 2ms/step - loss: 0.0521 - accuracy: 0.9828\n",
            "Epoch 9/10\n",
            "1875/1875 [==============================] - 3s 2ms/step - loss: 0.0471 - accuracy: 0.9846\n",
            "Epoch 10/10\n",
            "1875/1875 [==============================] - 3s 2ms/step - loss: 0.0440 - accuracy: 0.9853\n",
            "313/313 [==============================] - 0s 1ms/step - loss: 0.0734 - accuracy: 0.9784\n"
          ],
          "name": "stdout"
        },
        {
          "output_type": "execute_result",
          "data": {
            "text/plain": [
              "[0.07338511943817139, 0.9783999919891357]"
            ]
          },
          "metadata": {
            "tags": []
          },
          "execution_count": 13
        }
      ]
    },
    {
      "cell_type": "code",
      "metadata": {
        "id": "vtRFm72d-u7P",
        "colab": {
          "base_uri": "https://localhost:8080/",
          "height": 1000
        },
        "outputId": "06832ea5-cbbe-46c5-8a31-ed20ea6a4f8d"
      },
      "source": [
        "#########################################################\n",
        "import tensorflow as tf\n",
        "\n",
        "# mnist 모듈 준비\n",
        "mnist = tf.keras.datasets.mnist\n",
        "\n",
        "# MNIST 데이터셋을 훈련과 테스트 데이터로 로드하여 준비\n",
        "(x_train, y_train), (x_test, y_test) = mnist.load_data()\n",
        "\n",
        "# 샘플 값을 정수(0~255)에서 부동소수(0~1)로 변환\n",
        "x_train, x_test = x_train / 255.0, x_test / 255.0\n",
        "\n",
        "# 층을 차례대로 쌓아 tf.keras.Sequential 모델을 생성\n",
        "model = tf.keras.models.Sequential([\n",
        "    tf.keras.layers.Flatten(input_shape=(28, 28)),\n",
        "    tf.keras.layers.Dense(128, activation='relu'),\n",
        "    tf.keras.layers.Dropout(.2),\n",
        "    tf.keras.layers.Dense(64, activation='relu'),\n",
        "    tf.keras.layers.Dropout(.2),\n",
        "    tf.keras.layers.Dense(10, activation='softmax')                                     \n",
        "])\n",
        "\n",
        "# 훈련에 사용할 옵티마이저(optimizer)와 손실 함수, 출력정보를 선택\n",
        "model.compile(optimizer='adam', \n",
        "              loss='sparse_categorical_crossentropy',\n",
        "              metrics=['accuracy'])\n",
        "\n",
        "# 모델 요약 표시\n",
        "model.summary()\n",
        "\n",
        "# 모델을 훈련 데이터로 총 5번 훈련\n",
        "model.fit(x_train, y_train, epochs=20)\n",
        "\n",
        "# 모델을 테스트 데이터로 평가\n",
        "model.evaluate(x_test, y_test)"
      ],
      "execution_count": null,
      "outputs": [
        {
          "output_type": "stream",
          "text": [
            "Model: \"sequential_2\"\n",
            "_________________________________________________________________\n",
            "Layer (type)                 Output Shape              Param #   \n",
            "=================================================================\n",
            "flatten_2 (Flatten)          (None, 784)               0         \n",
            "_________________________________________________________________\n",
            "dense_4 (Dense)              (None, 128)               100480    \n",
            "_________________________________________________________________\n",
            "dropout_3 (Dropout)          (None, 128)               0         \n",
            "_________________________________________________________________\n",
            "dense_5 (Dense)              (None, 64)                8256      \n",
            "_________________________________________________________________\n",
            "dropout_4 (Dropout)          (None, 64)                0         \n",
            "_________________________________________________________________\n",
            "dense_6 (Dense)              (None, 10)                650       \n",
            "=================================================================\n",
            "Total params: 109,386\n",
            "Trainable params: 109,386\n",
            "Non-trainable params: 0\n",
            "_________________________________________________________________\n",
            "Epoch 1/20\n",
            "1875/1875 [==============================] - 3s 2ms/step - loss: 0.3286 - accuracy: 0.9019\n",
            "Epoch 2/20\n",
            "1875/1875 [==============================] - 3s 2ms/step - loss: 0.1582 - accuracy: 0.9528\n",
            "Epoch 3/20\n",
            "1875/1875 [==============================] - 3s 2ms/step - loss: 0.1213 - accuracy: 0.9635\n",
            "Epoch 4/20\n",
            "1875/1875 [==============================] - 3s 2ms/step - loss: 0.1039 - accuracy: 0.9683\n",
            "Epoch 5/20\n",
            "1875/1875 [==============================] - 3s 2ms/step - loss: 0.0911 - accuracy: 0.9716\n",
            "Epoch 6/20\n",
            "1875/1875 [==============================] - 3s 2ms/step - loss: 0.0804 - accuracy: 0.9750\n",
            "Epoch 7/20\n",
            "1875/1875 [==============================] - 3s 2ms/step - loss: 0.0773 - accuracy: 0.9754\n",
            "Epoch 8/20\n",
            "1875/1875 [==============================] - 3s 2ms/step - loss: 0.0689 - accuracy: 0.9783\n",
            "Epoch 9/20\n",
            "1875/1875 [==============================] - 3s 2ms/step - loss: 0.0647 - accuracy: 0.9794\n",
            "Epoch 10/20\n",
            "1875/1875 [==============================] - 3s 2ms/step - loss: 0.0605 - accuracy: 0.9805\n",
            "Epoch 11/20\n",
            "1875/1875 [==============================] - 3s 2ms/step - loss: 0.0593 - accuracy: 0.9813\n",
            "Epoch 12/20\n",
            "1875/1875 [==============================] - 3s 2ms/step - loss: 0.0558 - accuracy: 0.9826\n",
            "Epoch 13/20\n",
            "1875/1875 [==============================] - 3s 2ms/step - loss: 0.0534 - accuracy: 0.9826\n",
            "Epoch 14/20\n",
            "1875/1875 [==============================] - 3s 2ms/step - loss: 0.0516 - accuracy: 0.9832\n",
            "Epoch 15/20\n",
            "1875/1875 [==============================] - 3s 2ms/step - loss: 0.0481 - accuracy: 0.9839\n",
            "Epoch 16/20\n",
            "1875/1875 [==============================] - 3s 2ms/step - loss: 0.0460 - accuracy: 0.9848\n",
            "Epoch 17/20\n",
            "1875/1875 [==============================] - 3s 2ms/step - loss: 0.0443 - accuracy: 0.9853\n",
            "Epoch 18/20\n",
            "1875/1875 [==============================] - 3s 2ms/step - loss: 0.0450 - accuracy: 0.9854\n",
            "Epoch 19/20\n",
            "1875/1875 [==============================] - 3s 2ms/step - loss: 0.0424 - accuracy: 0.9870\n",
            "Epoch 20/20\n",
            "1875/1875 [==============================] - 3s 2ms/step - loss: 0.0427 - accuracy: 0.9861\n",
            "313/313 [==============================] - 0s 984us/step - loss: 0.0831 - accuracy: 0.9798\n"
          ],
          "name": "stdout"
        },
        {
          "output_type": "execute_result",
          "data": {
            "text/plain": [
              "[0.08310713618993759, 0.9797999858856201]"
            ]
          },
          "metadata": {
            "tags": []
          },
          "execution_count": 14
        }
      ]
    },
    {
      "cell_type": "code",
      "metadata": {
        "id": "wmAJoez4IYm8"
      },
      "source": [
        ""
      ],
      "execution_count": null,
      "outputs": []
    },
    {
      "cell_type": "markdown",
      "metadata": {
        "id": "IljDVl_vnTlu"
      },
      "source": [
        "## flatten()하지 않고 먼저 reshape()로 평탄화 작업을 수행한 후 Dense() 층 사용"
      ]
    },
    {
      "cell_type": "code",
      "metadata": {
        "id": "EWKBYWuHGHN6",
        "colab": {
          "base_uri": "https://localhost:8080/",
          "height": 468
        },
        "outputId": "b194c3d4-3824-41c1-86d4-438f76bd8b47"
      },
      "source": [
        "#########################################################\n",
        "import tensorflow as tf\n",
        "\n",
        "mnist = tf.keras.datasets.mnist\n",
        "(x_train, y_train), (x_test, y_test) = mnist.load_data()\n",
        "\n",
        "# 샘플 값을 정수(0~255)에서 부동소수(0~1)로 변환\n",
        "x_train, x_test = x_train / 255.0, x_test / 255.0\n",
        "\n",
        "# 먼저 reshape()로 평탄화 작업을 수행한 후\n",
        "x_train = x_train.reshape((60000, 28*28))\n",
        "x_test = x_test.reshape((10000, 28*28))\n",
        "\n",
        "# 층을 차례대로 쌓아 tf.keras.models.Sequential 모델을 생성\n",
        "model = tf.keras.models.Sequential([\n",
        "    #tf.keras.layers.Flatten(input_shape=(28, 28)),\n",
        "    tf.keras.layers.Dense(128, activation='relu', input_shape=(28 * 28,)),\n",
        "    tf.keras.layers.Dropout(0.2),\n",
        "    tf.keras.layers.Dense(10, activation='softmax')\n",
        "])\n",
        "\n",
        "# 모델 요약 표시\n",
        "model.summary()\n",
        "\n",
        "# 훈련에 사용할 옵티마이저(optimizer)와 손실 함수, 출력정보를 모델에 설정\n",
        "model.compile(optimizer='adam',\n",
        "              loss='sparse_categorical_crossentropy',\n",
        "              metrics=['accuracy'])\n",
        "              # metrics=['accuracy', 'mse'])\n",
        "\n",
        "# 모델을 훈련 데이터로 총 5번 훈련\n",
        "model.fit(x_train, y_train, epochs=5)\n",
        "\n",
        "# 모델을 테스트 데이터로 평가\n",
        "model.evaluate(x_test, y_test)"
      ],
      "execution_count": null,
      "outputs": [
        {
          "output_type": "stream",
          "text": [
            "Model: \"sequential_3\"\n",
            "_________________________________________________________________\n",
            "Layer (type)                 Output Shape              Param #   \n",
            "=================================================================\n",
            "dense_7 (Dense)              (None, 128)               100480    \n",
            "_________________________________________________________________\n",
            "dropout_5 (Dropout)          (None, 128)               0         \n",
            "_________________________________________________________________\n",
            "dense_8 (Dense)              (None, 10)                1290      \n",
            "=================================================================\n",
            "Total params: 101,770\n",
            "Trainable params: 101,770\n",
            "Non-trainable params: 0\n",
            "_________________________________________________________________\n",
            "Epoch 1/5\n",
            "1875/1875 [==============================] - 3s 2ms/step - loss: 0.2987 - accuracy: 0.9131\n",
            "Epoch 2/5\n",
            "1875/1875 [==============================] - 3s 2ms/step - loss: 0.1458 - accuracy: 0.9565\n",
            "Epoch 3/5\n",
            "1875/1875 [==============================] - 3s 2ms/step - loss: 0.1078 - accuracy: 0.9672\n",
            "Epoch 4/5\n",
            "1875/1875 [==============================] - 3s 2ms/step - loss: 0.0881 - accuracy: 0.9729\n",
            "Epoch 5/5\n",
            "1875/1875 [==============================] - 3s 2ms/step - loss: 0.0764 - accuracy: 0.9762\n",
            "313/313 [==============================] - 0s 963us/step - loss: 0.0763 - accuracy: 0.9762\n"
          ],
          "name": "stdout"
        },
        {
          "output_type": "execute_result",
          "data": {
            "text/plain": [
              "[0.07629268616437912, 0.9761999845504761]"
            ]
          },
          "metadata": {
            "tags": []
          },
          "execution_count": 15
        }
      ]
    }
  ]
}