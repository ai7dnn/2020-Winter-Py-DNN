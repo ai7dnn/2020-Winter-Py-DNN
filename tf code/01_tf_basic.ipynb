{
  "nbformat": 4,
  "nbformat_minor": 0,
  "metadata": {
    "colab": {
      "name": "01-tf-basic.ipynb",
      "provenance": [],
      "collapsed_sections": [],
      "include_colab_link": true
    },
    "kernelspec": {
      "name": "python3",
      "display_name": "Python 3"
    }
  },
  "cells": [
    {
      "cell_type": "markdown",
      "metadata": {
        "id": "view-in-github",
        "colab_type": "text"
      },
      "source": [
        "<a href=\"https://colab.research.google.com/github/ai7dnn/2020-Winter-Py-DNN/blob/main/tf%20code/01_tf_basic.ipynb\" target=\"_parent\"><img src=\"https://colab.research.google.com/assets/colab-badge.svg\" alt=\"Open In Colab\"/></a>"
      ]
    },
    {
      "cell_type": "code",
      "metadata": {
        "id": "666Z35Hj_IvD",
        "colab": {
          "base_uri": "https://localhost:8080/",
          "height": 35
        },
        "outputId": "96770209-b6ca-4dfc-9f9c-6c6d83c5196c"
      },
      "source": [
        "%tensorflow_version 1.x\r\n",
        "import tensorflow as tf\r\n",
        "tf.__version__"
      ],
      "execution_count": 2,
      "outputs": [
        {
          "output_type": "execute_result",
          "data": {
            "application/vnd.google.colaboratory.intrinsic+json": {
              "type": "string"
            },
            "text/plain": [
              "'1.15.2'"
            ]
          },
          "metadata": {
            "tags": []
          },
          "execution_count": 2
        }
      ]
    },
    {
      "cell_type": "code",
      "metadata": {
        "id": "lIoyJC50YhKF",
        "colab": {
          "base_uri": "https://localhost:8080/",
          "height": 35
        },
        "outputId": "607c7700-a0d3-4f1a-e338-5119a1a2d703"
      },
      "source": [
        "# 텐서플로 1.0 버전 선택\n",
        "try:\n",
        "    # %tensorflow_version only exists in Colab.\n",
        "    %tensorflow_version 1.x\n",
        "except Exception:\n",
        "    pass\n",
        "\n",
        "import tensorflow as tf\n",
        "tf.__version__"
      ],
      "execution_count": 3,
      "outputs": [
        {
          "output_type": "execute_result",
          "data": {
            "application/vnd.google.colaboratory.intrinsic+json": {
              "type": "string"
            },
            "text/plain": [
              "'1.15.2'"
            ]
          },
          "metadata": {
            "tags": []
          },
          "execution_count": 3
        }
      ]
    },
    {
      "cell_type": "code",
      "metadata": {
        "id": "dCGcmABhY1sr",
        "colab": {
          "base_uri": "https://localhost:8080/"
        },
        "outputId": "a0e1470a-1e55-44bd-bee8-bf6ce78bcb8b"
      },
      "source": [
        "import tensorflow as tf\n",
        "\n",
        "hello = tf.constant('Hello World!')\n",
        "\n",
        "sess = tf.Session()\n",
        "print(sess.run(hello))\n",
        "sess.close()"
      ],
      "execution_count": 4,
      "outputs": [
        {
          "output_type": "stream",
          "text": [
            "b'Hello World!'\n"
          ],
          "name": "stdout"
        }
      ]
    },
    {
      "cell_type": "code",
      "metadata": {
        "id": "kzCn_X1l_t-Z",
        "colab": {
          "base_uri": "https://localhost:8080/"
        },
        "outputId": "c9f53b50-5cd0-4c33-f1bc-1a2116b9b604"
      },
      "source": [
        "a = 10\n",
        "b = 10\n",
        "print(tf.add(a, b))\n",
        "\n",
        "sess = tf.Session()\n",
        "print(sess.run(tf.add(a, b)))\n",
        "sess.close()"
      ],
      "execution_count": 5,
      "outputs": [
        {
          "output_type": "stream",
          "text": [
            "Tensor(\"Add:0\", shape=(), dtype=int32)\n",
            "20\n"
          ],
          "name": "stdout"
        }
      ]
    },
    {
      "cell_type": "markdown",
      "metadata": {
        "id": "jCzlyfpPN8QM"
      },
      "source": [
        "## 메뉴, 런타임 | 런타임 다시 시작\n",
        "### 단축키: ctrl+M ."
      ]
    },
    {
      "cell_type": "code",
      "metadata": {
        "id": "TuoXzPoI7_I1"
      },
      "source": [
        " %tensorflow_version 2.x"
      ],
      "execution_count": 1,
      "outputs": []
    },
    {
      "cell_type": "code",
      "metadata": {
        "id": "7SUqd_Ho8GwA",
        "colab": {
          "base_uri": "https://localhost:8080/",
          "height": 35
        },
        "outputId": "90da4070-0421-4797-f57d-e2f251d66c5f"
      },
      "source": [
        "import tensorflow as tf\n",
        "tf.__version__"
      ],
      "execution_count": 2,
      "outputs": [
        {
          "output_type": "execute_result",
          "data": {
            "application/vnd.google.colaboratory.intrinsic+json": {
              "type": "string"
            },
            "text/plain": [
              "'2.4.0'"
            ]
          },
          "metadata": {
            "tags": []
          },
          "execution_count": 2
        }
      ]
    },
    {
      "cell_type": "code",
      "metadata": {
        "id": "2I9eNUaicpRg",
        "colab": {
          "base_uri": "https://localhost:8080/"
        },
        "outputId": "f8288c24-738d-4c84-ce35-bc7c11e35fac"
      },
      "source": [
        "a = tf.constant(3)\n",
        "a"
      ],
      "execution_count": 3,
      "outputs": [
        {
          "output_type": "execute_result",
          "data": {
            "text/plain": [
              "<tf.Tensor: shape=(), dtype=int32, numpy=3>"
            ]
          },
          "metadata": {
            "tags": []
          },
          "execution_count": 3
        }
      ]
    },
    {
      "cell_type": "code",
      "metadata": {
        "id": "odWOid-ncp8F",
        "colab": {
          "base_uri": "https://localhost:8080/"
        },
        "outputId": "9264e306-eac3-4928-b057-c28126784ae4"
      },
      "source": [
        "a.shape"
      ],
      "execution_count": 4,
      "outputs": [
        {
          "output_type": "execute_result",
          "data": {
            "text/plain": [
              "TensorShape([])"
            ]
          },
          "metadata": {
            "tags": []
          },
          "execution_count": 4
        }
      ]
    },
    {
      "cell_type": "code",
      "metadata": {
        "id": "x4v5QqaAcpsc",
        "colab": {
          "base_uri": "https://localhost:8080/"
        },
        "outputId": "7d192f3a-285a-49d8-8660-6c25f3341bb2"
      },
      "source": [
        "a.dtype"
      ],
      "execution_count": 5,
      "outputs": [
        {
          "output_type": "execute_result",
          "data": {
            "text/plain": [
              "tf.int32"
            ]
          },
          "metadata": {
            "tags": []
          },
          "execution_count": 5
        }
      ]
    },
    {
      "cell_type": "code",
      "metadata": {
        "id": "WbOMeeWFdBl2",
        "colab": {
          "base_uri": "https://localhost:8080/"
        },
        "outputId": "bf6911de-7d2b-4614-e142-a3dafbccafe8"
      },
      "source": [
        "a.numpy()"
      ],
      "execution_count": 6,
      "outputs": [
        {
          "output_type": "execute_result",
          "data": {
            "text/plain": [
              "3"
            ]
          },
          "metadata": {
            "tags": []
          },
          "execution_count": 6
        }
      ]
    },
    {
      "cell_type": "code",
      "metadata": {
        "id": "BjjzUEBCdBX7",
        "colab": {
          "base_uri": "https://localhost:8080/"
        },
        "outputId": "ea6ba896-95ea-4090-8176-f965ca775943"
      },
      "source": [
        "b = tf.constant(3.)\n",
        "b"
      ],
      "execution_count": 7,
      "outputs": [
        {
          "output_type": "execute_result",
          "data": {
            "text/plain": [
              "<tf.Tensor: shape=(), dtype=float32, numpy=3.0>"
            ]
          },
          "metadata": {
            "tags": []
          },
          "execution_count": 7
        }
      ]
    },
    {
      "cell_type": "code",
      "metadata": {
        "id": "yC7CJgfediAg",
        "colab": {
          "base_uri": "https://localhost:8080/"
        },
        "outputId": "7ef2e344-f17f-4da5-cc9e-dcc9db53e15c"
      },
      "source": [
        "b.shape"
      ],
      "execution_count": 8,
      "outputs": [
        {
          "output_type": "execute_result",
          "data": {
            "text/plain": [
              "TensorShape([])"
            ]
          },
          "metadata": {
            "tags": []
          },
          "execution_count": 8
        }
      ]
    },
    {
      "cell_type": "code",
      "metadata": {
        "colab": {
          "base_uri": "https://localhost:8080/"
        },
        "id": "Xbwnuh2DgN43",
        "outputId": "18208f49-782b-4965-a755-82d274eba607"
      },
      "source": [
        "r = tf.rank(b)\r\n",
        "r.numpy()"
      ],
      "execution_count": 12,
      "outputs": [
        {
          "output_type": "execute_result",
          "data": {
            "text/plain": [
              "0"
            ]
          },
          "metadata": {
            "tags": []
          },
          "execution_count": 12
        }
      ]
    },
    {
      "cell_type": "code",
      "metadata": {
        "id": "9mEhHKokdigQ",
        "colab": {
          "base_uri": "https://localhost:8080/"
        },
        "outputId": "35785bec-0261-4086-f9ef-d7dedf93ca46"
      },
      "source": [
        "b.dtype"
      ],
      "execution_count": 13,
      "outputs": [
        {
          "output_type": "execute_result",
          "data": {
            "text/plain": [
              "tf.float32"
            ]
          },
          "metadata": {
            "tags": []
          },
          "execution_count": 13
        }
      ]
    },
    {
      "cell_type": "code",
      "metadata": {
        "id": "b-NMCXZsdh1K",
        "colab": {
          "base_uri": "https://localhost:8080/"
        },
        "outputId": "046afa19-c25d-46f8-bc75-7e7b511f632e"
      },
      "source": [
        "b.numpy()"
      ],
      "execution_count": 14,
      "outputs": [
        {
          "output_type": "execute_result",
          "data": {
            "text/plain": [
              "3.0"
            ]
          },
          "metadata": {
            "tags": []
          },
          "execution_count": 14
        }
      ]
    },
    {
      "cell_type": "code",
      "metadata": {
        "id": "L066cmtDY-Gl",
        "colab": {
          "base_uri": "https://localhost:8080/"
        },
        "outputId": "73c59495-d1a8-4b86-f3f9-ee231c7a84b6"
      },
      "source": [
        "a = tf.constant(5)\n",
        "b = tf.constant(3)\n",
        "print(a+b)"
      ],
      "execution_count": 15,
      "outputs": [
        {
          "output_type": "stream",
          "text": [
            "tf.Tensor(8, shape=(), dtype=int32)\n"
          ],
          "name": "stdout"
        }
      ]
    },
    {
      "cell_type": "code",
      "metadata": {
        "id": "L9n5JQq9ZF7U",
        "colab": {
          "base_uri": "https://localhost:8080/"
        },
        "outputId": "5d700446-b563-4da0-88e8-bc97339cbeae"
      },
      "source": [
        "c = tf.constant('Hello, world!')\n",
        "print(c)\n",
        "print(c.numpy())"
      ],
      "execution_count": 16,
      "outputs": [
        {
          "output_type": "stream",
          "text": [
            "tf.Tensor(b'Hello, world!', shape=(), dtype=string)\n",
            "b'Hello, world!'\n"
          ],
          "name": "stdout"
        }
      ]
    },
    {
      "cell_type": "markdown",
      "metadata": {
        "id": "YPdK1joThgwW"
      },
      "source": [
        "## Tensor"
      ]
    },
    {
      "cell_type": "code",
      "metadata": {
        "id": "LRdnJjnjhjO1",
        "colab": {
          "base_uri": "https://localhost:8080/"
        },
        "outputId": "7808f34d-fa60-4707-a154-add566cbe602"
      },
      "source": [
        "a = tf.constant([1, 2, 3])\n",
        "a.shape"
      ],
      "execution_count": 17,
      "outputs": [
        {
          "output_type": "execute_result",
          "data": {
            "text/plain": [
              "TensorShape([3])"
            ]
          },
          "metadata": {
            "tags": []
          },
          "execution_count": 17
        }
      ]
    },
    {
      "cell_type": "code",
      "metadata": {
        "id": "2Q9aQHWhhj6X",
        "colab": {
          "base_uri": "https://localhost:8080/"
        },
        "outputId": "31290efd-936d-4abc-d71e-ff86387b8903"
      },
      "source": [
        "a = tf.constant([[1, 2, 3], [4, 5, 6]])\n",
        "a.shape"
      ],
      "execution_count": 18,
      "outputs": [
        {
          "output_type": "execute_result",
          "data": {
            "text/plain": [
              "TensorShape([2, 3])"
            ]
          },
          "metadata": {
            "tags": []
          },
          "execution_count": 18
        }
      ]
    },
    {
      "cell_type": "code",
      "metadata": {
        "id": "xeuIyRtBhjsz",
        "colab": {
          "base_uri": "https://localhost:8080/"
        },
        "outputId": "a915fe8b-7222-491c-ae5c-7ebf01b63986"
      },
      "source": [
        "a = tf.constant([[[1, 2, 3], [4, 5, 6]], [[1, 2, 3], [4, 5, 6]]])\n",
        "a.shape"
      ],
      "execution_count": 19,
      "outputs": [
        {
          "output_type": "execute_result",
          "data": {
            "text/plain": [
              "TensorShape([2, 2, 3])"
            ]
          },
          "metadata": {
            "tags": []
          },
          "execution_count": 19
        }
      ]
    },
    {
      "cell_type": "code",
      "metadata": {
        "id": "LYg485LVjD_k",
        "colab": {
          "base_uri": "https://localhost:8080/"
        },
        "outputId": "94582b11-e4a4-4f96-a8a9-b92bb49c5316"
      },
      "source": [
        "a"
      ],
      "execution_count": 20,
      "outputs": [
        {
          "output_type": "execute_result",
          "data": {
            "text/plain": [
              "<tf.Tensor: shape=(2, 2, 3), dtype=int32, numpy=\n",
              "array([[[1, 2, 3],\n",
              "        [4, 5, 6]],\n",
              "\n",
              "       [[1, 2, 3],\n",
              "        [4, 5, 6]]], dtype=int32)>"
            ]
          },
          "metadata": {
            "tags": []
          },
          "execution_count": 20
        }
      ]
    },
    {
      "cell_type": "code",
      "metadata": {
        "colab": {
          "base_uri": "https://localhost:8080/"
        },
        "id": "UATNPuJBhtaG",
        "outputId": "8bcebb71-3091-4520-9553-870159fcdbf1"
      },
      "source": [
        "tf.rank(a).numpy()"
      ],
      "execution_count": 21,
      "outputs": [
        {
          "output_type": "execute_result",
          "data": {
            "text/plain": [
              "3"
            ]
          },
          "metadata": {
            "tags": []
          },
          "execution_count": 21
        }
      ]
    },
    {
      "cell_type": "markdown",
      "metadata": {
        "id": "MT526aN3QeDi"
      },
      "source": [
        "## tf.cond"
      ]
    },
    {
      "cell_type": "code",
      "metadata": {
        "id": "ZLWN6G7eZaRN",
        "colab": {
          "base_uri": "https://localhost:8080/"
        },
        "outputId": "4d58358d-8615-4528-f44b-07bfb3fb90b5"
      },
      "source": [
        "x = tf.constant(1.)\n",
        "bool = tf.constant(True)\n",
        "res = tf.cond(bool, lambda: tf.add(x, 1.), lambda: tf.add(x, 10.))\n",
        "\n",
        "print(res)\n",
        "print(res.numpy())"
      ],
      "execution_count": 22,
      "outputs": [
        {
          "output_type": "stream",
          "text": [
            "tf.Tensor(2.0, shape=(), dtype=float32)\n",
            "2.0\n"
          ],
          "name": "stdout"
        }
      ]
    },
    {
      "cell_type": "code",
      "metadata": {
        "colab": {
          "base_uri": "https://localhost:8080/"
        },
        "id": "qswvse3LiYxl",
        "outputId": "f04bea54-c53f-4833-9fd5-e05aa562fd3c"
      },
      "source": [
        "bool = tf.constant(False)\r\n",
        "res = tf.cond(bool, lambda: tf.add(x, 1.), lambda: tf.add(x, 10.))\r\n",
        "\r\n",
        "print(res.numpy())"
      ],
      "execution_count": 24,
      "outputs": [
        {
          "output_type": "stream",
          "text": [
            "11.0\n"
          ],
          "name": "stdout"
        }
      ]
    },
    {
      "cell_type": "markdown",
      "metadata": {
        "id": "GjxneKyDP4Ky"
      },
      "source": [
        "## https://www.tensorflow.org/api_docs/python/tf/cond"
      ]
    },
    {
      "cell_type": "code",
      "metadata": {
        "id": "O2LXCAYfPwbh",
        "colab": {
          "base_uri": "https://localhost:8080/"
        },
        "outputId": "48d099ba-2a7c-4964-9483-796127b8831f"
      },
      "source": [
        "x = tf.constant(2)\n",
        "y = tf.constant(5)\n",
        "def f1(): return tf.multiply(x, 17)\n",
        "def f2(): return tf.add(y, 23)\n",
        "r = tf.cond(tf.less(x, y), f1, f2)\n",
        "\n",
        "r.numpy()"
      ],
      "execution_count": 25,
      "outputs": [
        {
          "output_type": "execute_result",
          "data": {
            "text/plain": [
              "34"
            ]
          },
          "metadata": {
            "tags": []
          },
          "execution_count": 25
        }
      ]
    },
    {
      "cell_type": "code",
      "metadata": {
        "id": "hP82cHuhWXse",
        "colab": {
          "base_uri": "https://localhost:8080/"
        },
        "outputId": "2743d21b-8041-4f6c-9e94-6f330ae5909b"
      },
      "source": [
        "# 1차원 배열 텐서\n",
        "t = tf.constant([1, 2, 3])\n",
        "t"
      ],
      "execution_count": 26,
      "outputs": [
        {
          "output_type": "execute_result",
          "data": {
            "text/plain": [
              "<tf.Tensor: shape=(3,), dtype=int32, numpy=array([1, 2, 3], dtype=int32)>"
            ]
          },
          "metadata": {
            "tags": []
          },
          "execution_count": 26
        }
      ]
    },
    {
      "cell_type": "code",
      "metadata": {
        "id": "qVIos5ADciDD",
        "colab": {
          "base_uri": "https://localhost:8080/"
        },
        "outputId": "0a48422e-56b6-4e3e-fcf3-40862e0d8a1f"
      },
      "source": [
        "x = tf.constant([1, 2, 3])\n",
        "y = tf.constant([5, 6, 7])\n",
        "\n",
        "print((x+y).numpy())"
      ],
      "execution_count": 27,
      "outputs": [
        {
          "output_type": "stream",
          "text": [
            "[ 6  8 10]\n"
          ],
          "name": "stdout"
        }
      ]
    },
    {
      "cell_type": "code",
      "metadata": {
        "id": "jseS6ltuZh8N",
        "colab": {
          "base_uri": "https://localhost:8080/"
        },
        "outputId": "50454b82-9f8f-4794-f6c0-859f818e0053"
      },
      "source": [
        "a = tf.constant([5], dtype=tf.float32)\n",
        "b = tf.constant([10], dtype=tf.float32)\n",
        "c = tf.constant([2], dtype=tf.float32)\n",
        "print(a.numpy())\n",
        "\n",
        "d = a * b + c\n",
        "\n",
        "print(d)\n",
        "print(d.numpy())"
      ],
      "execution_count": 28,
      "outputs": [
        {
          "output_type": "stream",
          "text": [
            "[5.]\n",
            "tf.Tensor([52.], shape=(1,), dtype=float32)\n",
            "[52.]\n"
          ],
          "name": "stdout"
        }
      ]
    },
    {
      "cell_type": "code",
      "metadata": {
        "id": "E5nKTlaLg2Wr",
        "colab": {
          "base_uri": "https://localhost:8080/"
        },
        "outputId": "2f78fe79-da5c-4e81-c067-67dba89651ca"
      },
      "source": [
        "x = tf.constant([[0], [10], [20], [30]])\n",
        "y = tf.constant([0, 1, 2])\n",
        "\n",
        "print((x+y).numpy())"
      ],
      "execution_count": 29,
      "outputs": [
        {
          "output_type": "stream",
          "text": [
            "[[ 0  1  2]\n",
            " [10 11 12]\n",
            " [20 21 22]\n",
            " [30 31 32]]\n"
          ],
          "name": "stdout"
        }
      ]
    },
    {
      "cell_type": "code",
      "metadata": {
        "id": "Yb0iub--bNGb",
        "colab": {
          "base_uri": "https://localhost:8080/"
        },
        "outputId": "e6e01826-7b05-4f24-9027-55f29f22447b"
      },
      "source": [
        "import numpy as np\n",
        "\n",
        "print(np.arange(3))\n",
        "print(np.ones((3, 3)))\n",
        "print()\n",
        "\n",
        "x = tf.constant((np.arange(3)))\n",
        "y = tf.constant([5], dtype=tf.int64)\n",
        "print(x)\n",
        "print(y)\n",
        "print(x+y)"
      ],
      "execution_count": 30,
      "outputs": [
        {
          "output_type": "stream",
          "text": [
            "[0 1 2]\n",
            "[[1. 1. 1.]\n",
            " [1. 1. 1.]\n",
            " [1. 1. 1.]]\n",
            "\n",
            "tf.Tensor([0 1 2], shape=(3,), dtype=int64)\n",
            "tf.Tensor([5], shape=(1,), dtype=int64)\n",
            "tf.Tensor([5 6 7], shape=(3,), dtype=int64)\n"
          ],
          "name": "stdout"
        }
      ]
    },
    {
      "cell_type": "code",
      "metadata": {
        "id": "f6_MheXQYpIx",
        "colab": {
          "base_uri": "https://localhost:8080/"
        },
        "outputId": "c7423326-0677-41e8-959c-cc47fa02158b"
      },
      "source": [
        "x = tf.constant((np.arange(3)))\n",
        "y = tf.constant([5], dtype=tf.int64)\n",
        "print((x+y).numpy())\n",
        "\n",
        "x = tf.constant((np.ones((3, 3))))\n",
        "y = tf.constant(np.arange(3), dtype=tf.double)\n",
        "print((x+y).numpy())\n",
        "\n",
        "x = tf.constant(np.arange(3).reshape(3, 1))\n",
        "y = tf.constant(np.arange(3))\n",
        "print((x+y).numpy())"
      ],
      "execution_count": 31,
      "outputs": [
        {
          "output_type": "stream",
          "text": [
            "[5 6 7]\n",
            "[[1. 2. 3.]\n",
            " [1. 2. 3.]\n",
            " [1. 2. 3.]]\n",
            "[[0 1 2]\n",
            " [1 2 3]\n",
            " [2 3 4]]\n"
          ],
          "name": "stdout"
        }
      ]
    },
    {
      "cell_type": "code",
      "metadata": {
        "id": "s75MWZnng_mK",
        "colab": {
          "base_uri": "https://localhost:8080/"
        },
        "outputId": "8c79f155-1740-4cef-931d-f8c9a3b63947"
      },
      "source": [
        "a = 2\n",
        "b = 3\n",
        "c = tf.add(a, b)\n",
        "print(c.numpy())"
      ],
      "execution_count": 32,
      "outputs": [
        {
          "output_type": "stream",
          "text": [
            "5\n"
          ],
          "name": "stdout"
        }
      ]
    },
    {
      "cell_type": "code",
      "metadata": {
        "id": "AHXz1jrgoJOQ",
        "colab": {
          "base_uri": "https://localhost:8080/"
        },
        "outputId": "83bbf936-82f2-4759-c7e8-ec3e367e81b6"
      },
      "source": [
        "x = 2\n",
        "y = 3\n",
        "add_op = tf.add(x, y)\n",
        "mul_op = tf.multiply(x, y)\n",
        "pow_op = tf.pow(add_op, mul_op)\n",
        "\n",
        "print(pow_op.numpy())"
      ],
      "execution_count": 33,
      "outputs": [
        {
          "output_type": "stream",
          "text": [
            "15625\n"
          ],
          "name": "stdout"
        }
      ]
    },
    {
      "cell_type": "code",
      "metadata": {
        "id": "NvGeoXwyoMIH",
        "colab": {
          "base_uri": "https://localhost:8080/"
        },
        "outputId": "2d87b35b-5be8-4ee7-d634-91ab1aca2818"
      },
      "source": [
        "a = tf.constant(2.)\n",
        "b = tf.constant(3.)\n",
        "c = tf.constant(5.)\n",
        "\n",
        "# Some more operations.\n",
        "mean = tf.reduce_mean([a, b, c])\n",
        "sum = tf.reduce_sum([a, b, c])\n",
        "\n",
        "print(\"mean = \", mean.numpy())\n",
        "print(\"sum = \", sum.numpy())"
      ],
      "execution_count": 34,
      "outputs": [
        {
          "output_type": "stream",
          "text": [
            "mean =  3.3333333\n",
            "sum =  10.0\n"
          ],
          "name": "stdout"
        }
      ]
    },
    {
      "cell_type": "code",
      "metadata": {
        "id": "HtDXyt2dpeWG",
        "colab": {
          "base_uri": "https://localhost:8080/"
        },
        "outputId": "4e05ed1a-5a7f-4b19-cbe3-b45e2188e909"
      },
      "source": [
        "# Matrix multiplications 1\n",
        "matrix1 = tf.constant([[1., 2.], [3., 4.]])\n",
        "matrix2 = tf.constant([[2., 0.], [1., 2.]])\n",
        "\n",
        "gop = tf.matmul(matrix1, matrix2)\n",
        "print(gop.numpy())\n",
        "\n",
        "# Matrix multiplications 2\n",
        "gop = tf.matmul(matrix2, matrix1)\n",
        "print(gop.numpy())"
      ],
      "execution_count": 35,
      "outputs": [
        {
          "output_type": "stream",
          "text": [
            "[[ 4.  4.]\n",
            " [10.  8.]]\n",
            "[[ 2.  4.]\n",
            " [ 7. 10.]]\n"
          ],
          "name": "stdout"
        }
      ]
    },
    {
      "cell_type": "code",
      "metadata": {
        "id": "-eZk_XEPrTU8",
        "colab": {
          "base_uri": "https://localhost:8080/"
        },
        "outputId": "94b2fa98-2835-4670-f20c-5e77a837ae00"
      },
      "source": [
        "tf.executing_eagerly()"
      ],
      "execution_count": 36,
      "outputs": [
        {
          "output_type": "execute_result",
          "data": {
            "text/plain": [
              "True"
            ]
          },
          "metadata": {
            "tags": []
          },
          "execution_count": 36
        }
      ]
    },
    {
      "cell_type": "code",
      "metadata": {
        "id": "PTsMDWESuNVt",
        "colab": {
          "base_uri": "https://localhost:8080/"
        },
        "outputId": "be82fb5a-8cd8-413b-8704-df8a529efeba"
      },
      "source": [
        "x = tf.constant(1.)\n",
        "bool = tf.constant(True)\n",
        "res = tf.cond(bool, lambda: tf.add(x, 1.), lambda: tf.add(x, 10.))\n",
        "\n",
        "res.numpy()"
      ],
      "execution_count": 37,
      "outputs": [
        {
          "output_type": "execute_result",
          "data": {
            "text/plain": [
              "2.0"
            ]
          },
          "metadata": {
            "tags": []
          },
          "execution_count": 37
        }
      ]
    },
    {
      "cell_type": "code",
      "metadata": {
        "id": "32W8ldMH1pTR"
      },
      "source": [
        ""
      ],
      "execution_count": null,
      "outputs": []
    }
  ]
}