{
  "nbformat": 4,
  "nbformat_minor": 0,
  "metadata": {
    "kernelspec": {
      "display_name": "Python 3",
      "language": "python",
      "name": "python3"
    },
    "language_info": {
      "codemirror_mode": {
        "name": "ipython",
        "version": 3
      },
      "file_extension": ".py",
      "mimetype": "text/x-python",
      "name": "python",
      "nbconvert_exporter": "python",
      "pygments_lexer": "ipython3",
      "version": "3.6.0"
    },
    "colab": {
      "name": "12W-cnn-basic.ipynb",
      "provenance": [],
      "collapsed_sections": [],
      "include_colab_link": true
    }
  },
  "cells": [
    {
      "cell_type": "markdown",
      "metadata": {
        "id": "view-in-github",
        "colab_type": "text"
      },
      "source": [
        "<a href=\"https://colab.research.google.com/github/ai7dnn/2020-Winter-Py-DNN/blob/main/tf%20code/12W_cnn_basic.ipynb\" target=\"_parent\"><img src=\"https://colab.research.google.com/assets/colab-badge.svg\" alt=\"Open In Colab\"/></a>"
      ]
    },
    {
      "cell_type": "code",
      "metadata": {
        "id": "U0H6l8oaVmjZ"
      },
      "source": [
        "# %matplotlib inline\n",
        "import numpy as np\n",
        "import tensorflow as tf\n",
        "import matplotlib.pyplot as plt"
      ],
      "execution_count": 1,
      "outputs": []
    },
    {
      "cell_type": "code",
      "metadata": {
        "id": "CafI-UlLVmjc",
        "colab": {
          "base_uri": "https://localhost:8080/"
        },
        "outputId": "968fea6c-ef33-4f2b-99ef-279167af9e85"
      },
      "source": [
        "image = np.array([[[1,2,3],\n",
        "                   [4,5,6], \n",
        "                   [7,8,9]]], dtype=np.float32)\n",
        "image.shape"
      ],
      "execution_count": null,
      "outputs": [
        {
          "output_type": "execute_result",
          "data": {
            "text/plain": [
              "(1, 3, 3)"
            ]
          },
          "metadata": {
            "tags": []
          },
          "execution_count": 38
        }
      ]
    },
    {
      "cell_type": "code",
      "metadata": {
        "colab": {
          "base_uri": "https://localhost:8080/"
        },
        "id": "-fXnnO_QA9CG",
        "outputId": "cb89d4a3-5266-4f81-87e3-54b0b96330ed"
      },
      "source": [
        "# 4차원의 행렬로 변환\n",
        "image = image.reshape(-1, 3, 3, 1)\n",
        "'''\n",
        "image = np.array([[[[1],[2],[3]],\n",
        "                   [[4],[5],[6]], \n",
        "                   [[7],[8],[9]]]], dtype=np.float32)\n",
        "'''\n",
        "image.shape"
      ],
      "execution_count": null,
      "outputs": [
        {
          "output_type": "execute_result",
          "data": {
            "text/plain": [
              "(1, 3, 3, 1)"
            ]
          },
          "metadata": {
            "tags": []
          },
          "execution_count": 39
        }
      ]
    },
    {
      "cell_type": "code",
      "metadata": {
        "colab": {
          "base_uri": "https://localhost:8080/",
          "height": 470
        },
        "id": "5sIXaXy1BYLI",
        "outputId": "449e01c7-a11f-4079-d3c4-334bdf1bd494"
      },
      "source": [
        "print(image)\n",
        "#plt.imshow(image.reshape(3,3), cmap='Greys')\n",
        "plt.imshow(image.reshape(3,3), cmap='gray')"
      ],
      "execution_count": null,
      "outputs": [
        {
          "output_type": "stream",
          "text": [
            "[[[[1.]\n",
            "   [2.]\n",
            "   [3.]]\n",
            "\n",
            "  [[4.]\n",
            "   [5.]\n",
            "   [6.]]\n",
            "\n",
            "  [[7.]\n",
            "   [8.]\n",
            "   [9.]]]]\n"
          ],
          "name": "stdout"
        },
        {
          "output_type": "execute_result",
          "data": {
            "text/plain": [
              "<matplotlib.image.AxesImage at 0x7f00265eb400>"
            ]
          },
          "metadata": {
            "tags": []
          },
          "execution_count": 42
        },
        {
          "output_type": "display_data",
          "data": {
            "image/png": "[encoded data removed]",
            "text/plain": [
              "<Figure size 432x288 with 1 Axes>"
            ]
          },
          "metadata": {
            "tags": [],
            "needs_background": "light"
          }
        }
      ]
    },
    {
      "cell_type": "code",
      "metadata": {
        "id": "fZyCt_RF6DmW",
        "colab": {
          "base_uri": "https://localhost:8080/",
          "height": 302
        },
        "outputId": "726a4b32-49f2-4802-97c5-9f69e214f93d"
      },
      "source": [
        "image = np.array([[[[1],[2],[3]],\n",
        "                   [[4],[5],[6]], \n",
        "                   [[7],[8],[9]]]], dtype=np.float32)\n",
        "print(image.shape)\n",
        "plt.imshow(image.reshape(3,3), cmap='Greys')"
      ],
      "execution_count": null,
      "outputs": [
        {
          "output_type": "stream",
          "text": [
            "(1, 3, 3, 1)\n"
          ],
          "name": "stdout"
        },
        {
          "output_type": "execute_result",
          "data": {
            "text/plain": [
              "<matplotlib.image.AxesImage at 0x7f002a3ae860>"
            ]
          },
          "metadata": {
            "tags": []
          },
          "execution_count": 8
        },
        {
          "output_type": "display_data",
          "data": {
            "image/png": "[encoded data removed]",
            "text/plain": [
              "<Figure size 432x288 with 1 Axes>"
            ]
          },
          "metadata": {
            "tags": [],
            "needs_background": "light"
          }
        }
      ]
    },
    {
      "cell_type": "code",
      "metadata": {
        "colab": {
          "base_uri": "https://localhost:8080/"
        },
        "id": "tXXX6ZupqLmo",
        "outputId": "d9ce9394-3d66-4b9b-941d-79f929e50928"
      },
      "source": [
        "print(image)"
      ],
      "execution_count": null,
      "outputs": [
        {
          "output_type": "stream",
          "text": [
            "[[[[1.]\n",
            "   [2.]\n",
            "   [3.]]\n",
            "\n",
            "  [[4.]\n",
            "   [5.]\n",
            "   [6.]]\n",
            "\n",
            "  [[7.]\n",
            "   [8.]\n",
            "   [9.]]]]\n"
          ],
          "name": "stdout"
        }
      ]
    },
    {
      "cell_type": "markdown",
      "metadata": {
        "id": "O2SGBj59Vmjf"
      },
      "source": [
        "## 1 filter (2,2,1,1) with padding: VALID\n",
        "\n",
        "weight.shape = 1 filter (2 , 2 , 1, 1)\n",
        "![image](https://cloud.githubusercontent.com/assets/901975/24833375/c0d9c262-1cf9-11e7-9efc-5dd6fe0fedb0.png)"
      ]
    },
    {
      "cell_type": "code",
      "metadata": {
        "id": "yNEPRof7Vmjg",
        "colab": {
          "base_uri": "https://localhost:8080/"
        },
        "outputId": "5d867459-2b7a-46fe-ad42-494fe1ee7e5d"
      },
      "source": [
        "image = np.array([[[[1],[2],[3]],\n",
        "                   [[4],[5],[6]], \n",
        "                   [[7],[8],[9]]]], dtype=np.float32)\n",
        "print(\"image.shape\", image.shape)\n",
        "\n",
        "# wight가 커널\n",
        "weight = tf.constant([[[[1.]],[[1.]]],\n",
        "                      [[[1.]],[[1.]]]])\n",
        "print(\"weight.shape\", weight.shape)\n",
        "\n",
        "conv2d = tf.nn.conv2d(image, weight, strides=[1, 1, 1, 1], padding='VALID')\n",
        "print(\"conv2d.shape\", conv2d.shape)\n",
        "\n",
        "conv2d_img = np.swapaxes(conv2d, 0, 3)\n",
        "print(\"conv2d_img.shape\", conv2d_img.shape)\n",
        "print(type(conv2d_img))\n",
        "print(conv2d_img)"
      ],
      "execution_count": null,
      "outputs": [
        {
          "output_type": "stream",
          "text": [
            "image.shape (1, 3, 3, 1)\n",
            "weight.shape (2, 2, 1, 1)\n",
            "conv2d.shape (1, 2, 2, 1)\n",
            "conv2d_img.shape (1, 2, 2, 1)\n",
            "<class 'numpy.ndarray'>\n",
            "[[[[12.]\n",
            "   [16.]]\n",
            "\n",
            "  [[24.]\n",
            "   [28.]]]]\n"
          ],
          "name": "stdout"
        }
      ]
    },
    {
      "cell_type": "code",
      "metadata": {
        "colab": {
          "base_uri": "https://localhost:8080/",
          "height": 302
        },
        "id": "kkMyiFa9fSnm",
        "outputId": "198bd842-c4dc-4ab7-f8c8-8acdcfca688f"
      },
      "source": [
        "for i, one_img in enumerate(conv2d_img):\n",
        "    print(one_img.reshape(2,2))\n",
        "    plt.subplot(1, 1, i+1)\n",
        "    plt.imshow(one_img.reshape(2,2), cmap='gray')"
      ],
      "execution_count": null,
      "outputs": [
        {
          "output_type": "stream",
          "text": [
            "[[12. 16.]\n",
            " [24. 28.]]\n"
          ],
          "name": "stdout"
        },
        {
          "output_type": "display_data",
          "data": {
            "image/png": "[encoded data removed]",
            "text/plain": [
              "<Figure size 432x288 with 1 Axes>"
            ]
          },
          "metadata": {
            "tags": [],
            "needs_background": "light"
          }
        }
      ]
    },
    {
      "cell_type": "code",
      "metadata": {
        "id": "ODa-faXbDGVR",
        "colab": {
          "base_uri": "https://localhost:8080/"
        },
        "outputId": "ec0f8e7b-909d-4983-b47a-7021e15f1ec2"
      },
      "source": [
        "x_in = np.array([[\n",
        "  [[2], [1], [2], [0], [1]],\n",
        "  [[1], [3], [2], [2], [3]],\n",
        "  [[1], [1], [3], [3], [0]],\n",
        "  [[2], [2], [0], [1], [1]],\n",
        "  [[0], [0], [3], [1], [2]], ]])\n",
        "x = tf.constant(x_in, dtype=tf.float32)\n",
        "print(x.shape)\n",
        "\n",
        "# 2 x 2 커널 2개 적용\n",
        "kernel_in = np.array([\n",
        " [ [[2, 0.1]],[[3, 0.2]] ],\n",
        " [ [[0, 0.3]],[[1, 0.4]] ], ])\n",
        "kernel = tf.constant(kernel_in, dtype=tf.float32)\n",
        "print(kernel)"
      ],
      "execution_count": null,
      "outputs": [
        {
          "output_type": "stream",
          "text": [
            "(1, 5, 5, 1)\n",
            "tf.Tensor(\n",
            "[[[[2.  0.1]]\n",
            "\n",
            "  [[3.  0.2]]]\n",
            "\n",
            "\n",
            " [[[0.  0.3]]\n",
            "\n",
            "  [[1.  0.4]]]], shape=(2, 2, 1, 2), dtype=float32)\n"
          ],
          "name": "stdout"
        }
      ]
    },
    {
      "cell_type": "code",
      "metadata": {
        "colab": {
          "base_uri": "https://localhost:8080/"
        },
        "id": "v-eFNl7vwblK",
        "outputId": "1acefffe-403c-4ae5-e188-92dfe21b2295"
      },
      "source": [
        "conv2d = tf.nn.conv2d(x, kernel, strides=[1, 1, 1, 1], padding='VALID')\n",
        "print(\"conv2d.shape\", conv2d.shape) #1, 4, 4, 2 = 채널, 가로, 세로, 특징 수\n",
        "print(conv2d)"
      ],
      "execution_count": null,
      "outputs": [
        {
          "output_type": "stream",
          "text": [
            "conv2d.shape (1, 4, 4, 2)\n",
            "tf.Tensor(\n",
            "[[[[10.         1.9000001]\n",
            "   [10.         2.2      ]\n",
            "   [ 6.         1.6      ]\n",
            "   [ 6.         2.       ]]\n",
            "\n",
            "  [[12.         1.4      ]\n",
            "   [15.         2.2      ]\n",
            "   [13.         2.7      ]\n",
            "   [13.         1.7      ]]\n",
            "\n",
            "  [[ 7.         1.7      ]\n",
            "   [11.         1.3      ]\n",
            "   [16.         1.3000001]\n",
            "   [ 7.         1.       ]]\n",
            "\n",
            "  [[10.         0.6      ]\n",
            "   [ 7.         1.4      ]\n",
            "   [ 4.         1.5      ]\n",
            "   [ 7.         1.4000001]]]], shape=(1, 4, 4, 2), dtype=float32)\n"
          ],
          "name": "stdout"
        }
      ]
    },
    {
      "cell_type": "code",
      "metadata": {
        "colab": {
          "base_uri": "https://localhost:8080/"
        },
        "id": "_MVgpDvLgRYP",
        "outputId": "bd263173-e01a-41c1-d536-8005798b1173"
      },
      "source": [
        "# (1, 4, 4, 2) = 채널, 가로, 세로, 특징 수\n",
        "# 채널과 특징을 교환하여 그림을 그리도록 하기 위해\n",
        "conv2d_img = np.swapaxes(conv2d, 0, 3)\n",
        "print(\"conv2d.shape\", conv2d_img.shape) #2, 4, 4, 1 = 특징 수, 가로, 세로, 채널\n",
        "print(conv2d_img)"
      ],
      "execution_count": null,
      "outputs": [
        {
          "output_type": "stream",
          "text": [
            "conv2d.shape (2, 4, 4, 1)\n",
            "[[[[10.       ]\n",
            "   [10.       ]\n",
            "   [ 6.       ]\n",
            "   [ 6.       ]]\n",
            "\n",
            "  [[12.       ]\n",
            "   [15.       ]\n",
            "   [13.       ]\n",
            "   [13.       ]]\n",
            "\n",
            "  [[ 7.       ]\n",
            "   [11.       ]\n",
            "   [16.       ]\n",
            "   [ 7.       ]]\n",
            "\n",
            "  [[10.       ]\n",
            "   [ 7.       ]\n",
            "   [ 4.       ]\n",
            "   [ 7.       ]]]\n",
            "\n",
            "\n",
            " [[[ 1.9000001]\n",
            "   [ 2.2      ]\n",
            "   [ 1.6      ]\n",
            "   [ 2.       ]]\n",
            "\n",
            "  [[ 1.4      ]\n",
            "   [ 2.2      ]\n",
            "   [ 2.7      ]\n",
            "   [ 1.7      ]]\n",
            "\n",
            "  [[ 1.7      ]\n",
            "   [ 1.3      ]\n",
            "   [ 1.3000001]\n",
            "   [ 1.       ]]\n",
            "\n",
            "  [[ 0.6      ]\n",
            "   [ 1.4      ]\n",
            "   [ 1.5      ]\n",
            "   [ 1.4000001]]]]\n"
          ],
          "name": "stdout"
        }
      ]
    },
    {
      "cell_type": "code",
      "metadata": {
        "colab": {
          "base_uri": "https://localhost:8080/",
          "height": 334
        },
        "id": "wSM_syu4h48t",
        "outputId": "97329492-8f94-466b-ef1f-578f2a014364"
      },
      "source": [
        "for i, one_img in enumerate(conv2d_img):\n",
        "    print(one_img.reshape(4,4))\n",
        "    plt.subplot(1,2,i+1), plt.imshow(one_img.reshape(4,4), cmap='gray')"
      ],
      "execution_count": null,
      "outputs": [
        {
          "output_type": "stream",
          "text": [
            "[[10. 10.  6.  6.]\n",
            " [12. 15. 13. 13.]\n",
            " [ 7. 11. 16.  7.]\n",
            " [10.  7.  4.  7.]]\n",
            "[[1.9000001 2.2       1.6       2.       ]\n",
            " [1.4       2.2       2.7       1.7      ]\n",
            " [1.7       1.3       1.3000001 1.       ]\n",
            " [0.6       1.4       1.5       1.4000001]]\n"
          ],
          "name": "stdout"
        },
        {
          "output_type": "display_data",
          "data": {
            "image/png": "[encoded data removed]",
            "text/plain": [
              "<Figure size 432x288 with 2 Axes>"
            ]
          },
          "metadata": {
            "tags": [],
            "needs_background": "light"
          }
        }
      ]
    },
    {
      "cell_type": "markdown",
      "metadata": {
        "id": "QG6owr6vVmji"
      },
      "source": [
        "## 1 filter (2,2,1,1) with padding:SAME\n",
        "![image](https://cloud.githubusercontent.com/assets/901975/24833381/fd01869e-1cf9-11e7-9d59-df08c7c6e5c4.png)"
      ]
    },
    {
      "cell_type": "code",
      "metadata": {
        "id": "QxryMgmEVmji",
        "colab": {
          "base_uri": "https://localhost:8080/",
          "height": 305
        },
        "outputId": "635a988a-f5bb-45d8-99a4-501ff9da9718"
      },
      "source": [
        "image = np.array([[[[1],[2],[3]],\n",
        "                   [[4],[5],[6]], \n",
        "                   [[7],[8],[9]]]], dtype=np.float32)\n",
        "print(\"image.shape\", image.shape)\n",
        "\n",
        "weight = tf.constant([[[[1.]],[[1.]]],\n",
        "                      [[[1.]],[[1.]]]])\n",
        "print(\"weight.shape\", weight.shape)\n",
        "\n",
        "conv2d = tf.nn.conv2d(image, weight, strides=[1, 1, 1, 1], padding='SAME')\n",
        "print(\"conv2d.shape\", conv2d.shape)\n",
        "\n",
        "conv2d_img = np.swapaxes(conv2d, 0, 3)\n",
        "for i, one_img in enumerate(conv2d_img):\n",
        "    print(one_img.reshape(3,3))\n",
        "    plt.subplot(1,2,i+1), plt.imshow(one_img.reshape(3,3), cmap='gray')"
      ],
      "execution_count": null,
      "outputs": [
        {
          "output_type": "stream",
          "text": [
            "image.shape (1, 3, 3, 1)\n",
            "weight.shape (2, 2, 1, 1)\n",
            "conv2d.shape (1, 3, 3, 1)\n",
            "[[12. 16.  9.]\n",
            " [24. 28. 15.]\n",
            " [15. 17.  9.]]\n"
          ],
          "name": "stdout"
        },
        {
          "output_type": "display_data",
          "data": {
            "image/png": "[encoded data removed]",
            "text/plain": [
              "<Figure size 432x288 with 1 Axes>"
            ]
          },
          "metadata": {
            "tags": [],
            "needs_background": "light"
          }
        }
      ]
    },
    {
      "cell_type": "markdown",
      "metadata": {
        "id": "c3n1HM1kVmjl"
      },
      "source": [
        "## 3 filters (2,2,1,3)"
      ]
    },
    {
      "cell_type": "code",
      "metadata": {
        "id": "XV0Os9YEVmjl",
        "colab": {
          "base_uri": "https://localhost:8080/",
          "height": 348
        },
        "outputId": "ff2b68aa-a68b-406c-f79f-7d526a1a6290"
      },
      "source": [
        "image = np.array([[[[1],[2],[3]],\n",
        "                   [[4],[5],[6]], \n",
        "                   [[7],[8],[9]]]], dtype=np.float32)\n",
        "# print(\"imag:\\n\", image)\n",
        "print(\"image.shape\", image.shape)\n",
        "\n",
        "weight = tf.constant([[[[1.,10.,-1.]],[[1.,10.,-1.]]],\n",
        "                      [[[1.,10.,-1.]],[[1.,10.,-1.]]]])\n",
        "print(\"weight.shape\", weight.shape)\n",
        "\n",
        "conv2d = tf.nn.conv2d(image, weight, strides=[1, 1, 1, 1], padding='SAME')\n",
        "print(\"conv2d.shape\", conv2d.shape)\n",
        "\n",
        "conv2d_img = np.swapaxes(conv2d, 0, 3)\n",
        "for i, one_img in enumerate(conv2d_img):\n",
        "    print(one_img.reshape(3,3))\n",
        "    plt.subplot(1,3,i+1), plt.imshow(one_img.reshape(3,3), cmap='gray')"
      ],
      "execution_count": null,
      "outputs": [
        {
          "output_type": "stream",
          "text": [
            "image.shape (1, 3, 3, 1)\n",
            "weight.shape (2, 2, 1, 3)\n",
            "conv2d.shape (1, 3, 3, 3)\n",
            "[[12. 16.  9.]\n",
            " [24. 28. 15.]\n",
            " [15. 17.  9.]]\n",
            "[[120. 160.  90.]\n",
            " [240. 280. 150.]\n",
            " [150. 170.  90.]]\n",
            "[[-12. -16.  -9.]\n",
            " [-24. -28. -15.]\n",
            " [-15. -17.  -9.]]\n"
          ],
          "name": "stdout"
        },
        {
          "output_type": "display_data",
          "data": {
            "image/png": "[encoded data removed]",
            "text/plain": [
              "<Figure size 432x288 with 3 Axes>"
            ]
          },
          "metadata": {
            "tags": [],
            "needs_background": "light"
          }
        }
      ]
    },
    {
      "cell_type": "markdown",
      "metadata": {
        "id": "2bRqQYxvVmjo"
      },
      "source": [
        "## MAX POOLING\n",
        "![image](https://cloud.githubusercontent.com/assets/901975/23337676/bd154da2-fc30-11e6-888c-d86bc2206066.png)\n",
        "\n",
        "![image](https://cloud.githubusercontent.com/assets/901975/23340355/a4bd3c08-fc6f-11e6-8a99-1e3bbbe86733.png)\n"
      ]
    },
    {
      "cell_type": "code",
      "metadata": {
        "id": "zBAfRr0xVmjo",
        "colab": {
          "base_uri": "https://localhost:8080/"
        },
        "outputId": "fb6df5e7-c7e8-467d-9033-ac1bd0611b48"
      },
      "source": [
        "image = np.array([[[[4],[3]],\n",
        "                    [[2],[1]]]], dtype=np.float32)\n",
        "print(image.shape)\n",
        "pool = tf.nn.max_pool(image, ksize=[1, 2, 2, 1],\n",
        "                    strides=[1, 1, 1, 1], padding='VALID')\n",
        "print(pool.shape)\n",
        "print(pool.numpy())"
      ],
      "execution_count": null,
      "outputs": [
        {
          "output_type": "stream",
          "text": [
            "(1, 2, 2, 1)\n",
            "(1, 1, 1, 1)\n",
            "[[[[4.]]]]\n"
          ],
          "name": "stdout"
        }
      ]
    },
    {
      "cell_type": "markdown",
      "metadata": {
        "id": "ttV96kbuVmjr"
      },
      "source": [
        "## SAME: Zero paddings\n",
        "\n",
        "![image](https://cloud.githubusercontent.com/assets/901975/23340337/71b27652-fc6f-11e6-96ef-760998755f77.png)"
      ]
    },
    {
      "cell_type": "code",
      "metadata": {
        "id": "5pPF0DDsVmjr",
        "colab": {
          "base_uri": "https://localhost:8080/"
        },
        "outputId": "8e9dec1c-7f75-4f0a-9e8b-650d1d9473b7"
      },
      "source": [
        "image = np.array([[[[4],[3]],\n",
        "                    [[2],[1]]]], dtype=np.float32)\n",
        "pool = tf.nn.max_pool(image, ksize=[1, 2, 2, 1],\n",
        "                    strides=[1, 1, 1, 1], padding='SAME')\n",
        "print(pool.shape)\n",
        "print(pool.numpy())"
      ],
      "execution_count": null,
      "outputs": [
        {
          "output_type": "stream",
          "text": [
            "(1, 2, 2, 1)\n",
            "[[[[4.]\n",
            "   [3.]]\n",
            "\n",
            "  [[2.]\n",
            "   [1.]]]]\n"
          ],
          "name": "stdout"
        }
      ]
    },
    {
      "cell_type": "markdown",
      "metadata": {
        "id": "SnwySvxozDjY"
      },
      "source": [
        "# MNIST digits"
      ]
    },
    {
      "cell_type": "code",
      "metadata": {
        "id": "HEeivrdSc-CG",
        "colab": {
          "base_uri": "https://localhost:8080/"
        },
        "outputId": "8b3cadd0-68a8-4f73-c834-6569eee5dd2d"
      },
      "source": [
        "import tensorflow as tf\n",
        "mnist = tf.keras.datasets.mnist\n",
        "\n",
        "mnist = mnist.load_data()"
      ],
      "execution_count": 2,
      "outputs": [
        {
          "output_type": "stream",
          "text": [
            "Downloading data from https://storage.googleapis.com/tensorflow/tf-keras-datasets/mnist.npz\n",
            "11493376/11490434 [==============================] - 0s 0us/step\n"
          ],
          "name": "stdout"
        }
      ]
    },
    {
      "cell_type": "code",
      "metadata": {
        "id": "g_SzNkOKQZ41",
        "outputId": "e6fff3bd-90b8-429d-e85e-092cc619d16e",
        "colab": {
          "base_uri": "https://localhost:8080/"
        }
      },
      "source": [
        "len(mnist[0][0][0])"
      ],
      "execution_count": 13,
      "outputs": [
        {
          "output_type": "execute_result",
          "data": {
            "text/plain": [
              "28"
            ]
          },
          "metadata": {
            "tags": []
          },
          "execution_count": 13
        }
      ]
    },
    {
      "cell_type": "code",
      "metadata": {
        "id": "gTjORZkRVmjy",
        "colab": {
          "base_uri": "https://localhost:8080/",
          "height": 298
        },
        "outputId": "0c75feba-a646-4bd2-ca05-447bd1d186ad"
      },
      "source": [
        "# mnist[0][0][0]: 학습 데이터, 이미지 중, 첫번째  \n",
        "img = mnist[0][0][0].reshape(28,28)\n",
        "print(img.shape)\n",
        "plt.imshow(img, cmap='gray')"
      ],
      "execution_count": null,
      "outputs": [
        {
          "output_type": "stream",
          "text": [
            "(28, 28)\n"
          ],
          "name": "stdout"
        },
        {
          "output_type": "execute_result",
          "data": {
            "text/plain": [
              "<matplotlib.image.AxesImage at 0x7f00266dd208>"
            ]
          },
          "metadata": {
            "tags": []
          },
          "execution_count": 35
        },
        {
          "output_type": "display_data",
          "data": {
            "image/png": "[encoded data removed]",
            "text/plain": [
              "<Figure size 432x288 with 1 Axes>"
            ]
          },
          "metadata": {
            "tags": [],
            "needs_background": "light"
          }
        }
      ]
    },
    {
      "cell_type": "code",
      "metadata": {
        "colab": {
          "base_uri": "https://localhost:8080/",
          "height": 282
        },
        "id": "O-biRNR6nJP3",
        "outputId": "bcda7f59-1b47-44d1-87ab-8b0a74464850"
      },
      "source": [
        "plt.imshow(img, cmap='Greys')"
      ],
      "execution_count": null,
      "outputs": [
        {
          "output_type": "execute_result",
          "data": {
            "text/plain": [
              "<matplotlib.image.AxesImage at 0x7f0025fd5f28>"
            ]
          },
          "metadata": {
            "tags": []
          },
          "execution_count": 33
        },
        {
          "output_type": "display_data",
          "data": {
            "image/png": "[encoded data removed]",
            "text/plain": [
              "<Figure size 432x288 with 1 Axes>"
            ]
          },
          "metadata": {
            "tags": [],
            "needs_background": "light"
          }
        }
      ]
    },
    {
      "cell_type": "code",
      "metadata": {
        "id": "ao1bjNdcVmj1",
        "colab": {
          "base_uri": "https://localhost:8080/",
          "height": 125
        },
        "outputId": "df34db61-577b-4b37-966c-1c25d7b98528"
      },
      "source": [
        "# 4차원으로 확장\n",
        "img = img.reshape(-1,28,28,1)\n",
        "# 3 x 3의 필터 5개 생성\n",
        "W1 = tf.Variable(tf.random.normal([3, 3, 1, 5], stddev=0.01))\n",
        "\n",
        "#conv2d = tf.nn.conv2d(img, W1, strides=[1, 2, 2, 1], padding='SAME')\n",
        "conv2d = tf.nn.conv2d(img, W1, strides=2, padding='SAME')\n",
        "print(conv2d.shape)\n",
        "\n",
        "conv2d_img = np.swapaxes(conv2d, 0, 3)\n",
        "for i, one_img in enumerate(conv2d_img):\n",
        "    plt.subplot(1,5,i+1)\n",
        "    plt.imshow(one_img.reshape(14,14), cmap='gray')\n"
      ],
      "execution_count": null,
      "outputs": [
        {
          "output_type": "stream",
          "text": [
            "(1, 14, 14, 5)\n"
          ],
          "name": "stdout"
        },
        {
          "output_type": "display_data",
          "data": {
            "image/png": "[encoded data removed]",
            "text/plain": [
              "<Figure size 432x288 with 5 Axes>"
            ]
          },
          "metadata": {
            "tags": [],
            "needs_background": "light"
          }
        }
      ]
    },
    {
      "cell_type": "code",
      "metadata": {
        "id": "-ose3K7IVmj3",
        "colab": {
          "base_uri": "https://localhost:8080/",
          "height": 123
        },
        "outputId": "86476ac7-1e3e-4b45-9bb9-1d1b064e264a"
      },
      "source": [
        "pool = tf.nn.max_pool(conv2d, ksize=[1, 2, 2, 1], \n",
        "                      strides=[1, 2, 2, 1], padding='SAME')\n",
        "print(pool.shape)\n",
        "\n",
        "pool_img = np.swapaxes(pool, 0, 3)\n",
        "for i, one_img in enumerate(pool_img):\n",
        "    plt.subplot(1,5,i+1)\n",
        "    plt.imshow(one_img.reshape(7, 7), cmap='gray')"
      ],
      "execution_count": null,
      "outputs": [
        {
          "output_type": "stream",
          "text": [
            "(1, 7, 7, 5)\n"
          ],
          "name": "stdout"
        },
        {
          "output_type": "display_data",
          "data": {
            "image/png": "[encoded data removed]",
            "text/plain": [
              "<Figure size 432x288 with 5 Axes>"
            ]
          },
          "metadata": {
            "tags": [],
            "needs_background": "light"
          }
        }
      ]
    },
    {
      "cell_type": "code",
      "metadata": {
        "id": "dMEMC4uC3hus"
      },
      "source": [
        "# end"
      ],
      "execution_count": null,
      "outputs": []
    }
  ]
}